{
  "nbformat": 4,
  "nbformat_minor": 0,
  "metadata": {
    "colab": {
      "name": "Fundamentos3_CYP1157.ipynb",
      "provenance": [],
      "authorship_tag": "ABX9TyNmZK6ppDCRCSTsSGSm/wUP",
      "include_colab_link": true
    },
    "kernelspec": {
      "name": "python3",
      "display_name": "Python 3"
    },
    "language_info": {
      "name": "python"
    }
  },
  "cells": [
    {
      "cell_type": "markdown",
      "metadata": {
        "id": "view-in-github",
        "colab_type": "text"
      },
      "source": [
        "<a href=\"https://colab.research.google.com/github/EstebanHernandezValenzuela/CompYProg2022G1157/blob/main/Fundamentos3_CYP1157.ipynb\" target=\"_parent\"><img src=\"https://colab.research.google.com/assets/colab-badge.svg\" alt=\"Open In Colab\"/></a>"
      ]
    },
    {
      "cell_type": "markdown",
      "metadata": {
        "id": "vOgAoUBxF3E5"
      },
      "source": [
        "#Repeticion\n",
        "\n",
        "Este tipo de estructura nos permite automatizar e=la ejecucion repetitiva de un codigo mientras ciertas condiciones se cumplan, tenemos 3 variantes de esta estructura en todos los lenguajes de programacion \n",
        "\n",
        "- Desde... hasta (estructura for)\n",
        "- Haz mientras (structura while)\n",
        "- Haz y luego validas mientras(esttuctura DO-While)\n",
        "\n",
        "#FOR con PYTHON\n",
        "\n",
        "\n",
        "```\n",
        "for j in range(10):\n",
        "    print(f\"Hola {j \"}\n",
        "```\n",
        "#FOR lenguaje C y Java\n",
        "\n",
        "\n",
        "```\n",
        "for(int j=0 ; h<10 ; j=j+1){\n",
        "    print(\"Hola &i \\n\", j);\n",
        "}\n",
        "```\n",
        "\n",
        "En todos los lenguajes de programacion existe un tipo especial de for, conocido como **for-each**\n",
        "\n",
        "#For-each en Python\n",
        "\n",
        "\n",
        "```\n",
        "for color in colores:\n",
        "    print(f\"Este es el color {color}\")\n",
        "\n",
        "```\n",
        "\n",
        "\n",
        "\n",
        "\n"
      ]
    },
    {
      "cell_type": "code",
      "metadata": {
        "colab": {
          "base_uri": "https://localhost:8080/"
        },
        "id": "iCzpxoAbFSty",
        "outputId": "e8737e46-116b-4ec7-bdf5-7331b66f9c2a"
      },
      "source": [
        "# funcion range()\n",
        "# range(<inicio>, <stop>, <incremento>)\n",
        "x = range(0,10,2)\n",
        "print(x)\n",
        "\n",
        "for j in range(10): # range (0,10)-->0,1,2,3,4,5,6,7,8,9\n",
        "    print(f\"Hola {j}\")\n",
        "\n",
        "print(\"-.-.-.-.-.\")\n",
        "for j in range(0,10,2): #range(0,10,2)-->0,2,4,6,8\n",
        "    print(f\"Hola {j}\")\n",
        "\n",
        "frutas = [\"Uva\", \"Aguacate\", \"Pera\", \"Manzana\", \"Sandia\"]\n",
        "\n",
        "print(frutas[0])\n",
        "print(frutas[1])\n",
        "print(frutas[2])\n",
        "print(frutas[3])\n",
        "print(frutas[4])\n",
        "\n",
        "print(\"---frutas---\")\n",
        "for index in range(5):\n",
        "    print(frutas[index])\n",
        "\n",
        "    "
      ],
      "execution_count": null,
      "outputs": [
        {
          "output_type": "stream",
          "name": "stdout",
          "text": [
            "range(0, 10, 2)\n",
            "Hola 0\n",
            "Hola 1\n",
            "Hola 2\n",
            "Hola 3\n",
            "Hola 4\n",
            "Hola 5\n",
            "Hola 6\n",
            "Hola 7\n",
            "Hola 8\n",
            "Hola 9\n",
            "-.-.-.-.-.\n",
            "Hola 0\n",
            "Hola 2\n",
            "Hola 4\n",
            "Hola 6\n",
            "Hola 8\n",
            "Uva\n",
            "Aguacate\n",
            "Pera\n",
            "Manzana\n",
            "Sandia\n",
            "---frutas---\n",
            "Uva\n",
            "Aguacate\n",
            "Pera\n",
            "Manzana\n",
            "Sandia\n"
          ]
        }
      ]
    },
    {
      "cell_type": "code",
      "metadata": {
        "colab": {
          "base_uri": "https://localhost:8080/"
        },
        "id": "6A-2p83gRERc",
        "outputId": "cd5ff800-3bf5-4356-fce7-c0496b53f4ac"
      },
      "source": [
        "for x in range(1,20,1):\n",
        "    print(x)\n",
        "print(\"Fin del programa\")\n",
        "\n",
        "for x in range(19,0,-1):\n",
        "    print(x)\n",
        "print(\"Fin del programa\")"
      ],
      "execution_count": null,
      "outputs": [
        {
          "output_type": "stream",
          "name": "stdout",
          "text": [
            "1\n",
            "2\n",
            "3\n",
            "4\n",
            "5\n",
            "6\n",
            "7\n",
            "8\n",
            "9\n",
            "10\n",
            "11\n",
            "12\n",
            "13\n",
            "14\n",
            "15\n",
            "16\n",
            "17\n",
            "18\n",
            "19\n",
            "Fin del programa\n",
            "19\n",
            "18\n",
            "17\n",
            "16\n",
            "15\n",
            "14\n",
            "13\n",
            "12\n",
            "11\n",
            "10\n",
            "9\n",
            "8\n",
            "7\n",
            "6\n",
            "5\n",
            "4\n",
            "3\n",
            "2\n",
            "1\n",
            "Fin del programa\n"
          ]
        }
      ]
    },
    {
      "cell_type": "code",
      "metadata": {
        "colab": {
          "base_uri": "https://localhost:8080/"
        },
        "id": "4-XKg4akNvai",
        "outputId": "f0c3df16-685a-43af-a288-33775815c376"
      },
      "source": [
        "#ejemplo 3.3 \n",
        "CUECER = 0 \n",
        "NUM = 0\n",
        "N = int(input(\"Introduce un valor numerico mayor a 1: \"))\n",
        "for I in range(1,N+1,1):\n",
        "    N = int(input(\" un valor numerico: \"))\n",
        "    if N ==0:\n",
        "        CUECER +=1\n",
        "\n",
        "print(\"CUECER\", CUECER)"
      ],
      "execution_count": null,
      "outputs": [
        {
          "output_type": "stream",
          "name": "stdout",
          "text": [
            "Introduce un valor numerico mayor a 1: 2\n",
            " un valor numerico: 2\n",
            " un valor numerico: 0\n",
            "CUECER 1\n"
          ]
        }
      ]
    },
    {
      "cell_type": "markdown",
      "metadata": {
        "id": "NmF_nmB1F2Vu"
      },
      "source": [
        "\n",
        "7*1 = 7\n",
        "7*2 = 14\n",
        "\n",
        "7*10 = 70\n",
        "```\n",
        "# This is formatted as code\n",
        "```\n",
        "\n"
      ]
    },
    {
      "cell_type": "code",
      "metadata": {
        "colab": {
          "base_uri": "https://localhost:8080/"
        },
        "id": "6zIraC1vRDJh",
        "outputId": "9a4ef11c-e446-41e0-e3ac-82c23ddfd055"
      },
      "source": [
        "n = 7 \n",
        "for i in range(1,11,1):\n",
        "    x = n*i\n",
        "    print(f\"{n} x {i} = {x}\")\n",
        "    "
      ],
      "execution_count": null,
      "outputs": [
        {
          "output_type": "stream",
          "name": "stdout",
          "text": [
            "7 x 1 = 7\n",
            "7 x 2 = 14\n",
            "7 x 3 = 21\n",
            "7 x 4 = 28\n",
            "7 x 5 = 35\n",
            "7 x 6 = 42\n",
            "7 x 7 = 49\n",
            "7 x 8 = 56\n",
            "7 x 9 = 63\n",
            "7 x 10 = 70\n"
          ]
        }
      ]
    },
    {
      "cell_type": "markdown",
      "metadata": {
        "id": "weURvVZ-SSM_"
      },
      "source": [
        "dame un numero entre 1 y 5 : 2\n",
        "dame un nuemero entre 2 y 10 :6"
      ]
    },
    {
      "cell_type": "code",
      "metadata": {
        "colab": {
          "base_uri": "https://localhost:8080/"
        },
        "id": "0B8abmEZR4Y7",
        "outputId": "93838e15-7670-4b2d-f3f6-908cce65f190"
      },
      "source": [
        "n = int(input(\"Dame un numero entre 1 y 5: \"))\n",
        "if n >0 and n <=5:\n",
        "    e = int(input(f\"Dame un numero entre {n} y 10: \"))\n",
        "    if e >= n and e <=10:\n",
        "        for i in range(e, e+1):\n",
        "            for j in range(1,11):\n",
        "                print(f\"{i}*{j}=\",i*j)\n",
        "else:\n",
        "    print(\"Valor fuera de rango 1-5\")"
      ],
      "execution_count": null,
      "outputs": [
        {
          "output_type": "stream",
          "name": "stdout",
          "text": [
            "Dame un numero entre 1 y 5: 4\n",
            "Dame un numero entre 4 y 10: 6\n",
            "6*1= 6\n",
            "6*2= 12\n",
            "6*3= 18\n",
            "6*4= 24\n",
            "6*5= 30\n",
            "6*6= 36\n",
            "6*7= 42\n",
            "6*8= 48\n",
            "6*9= 54\n",
            "6*10= 60\n"
          ]
        }
      ]
    },
    {
      "cell_type": "code",
      "metadata": {
        "colab": {
          "base_uri": "https://localhost:8080/"
        },
        "id": "3o5vHLMZUPdC",
        "outputId": "720eeaa5-588d-4f0b-9e7e-8fe54d7dd1ee"
      },
      "source": [
        "# generadores de listas \n",
        "numeros = [0,0,0,0,0]\n",
        "print(numeros)\n",
        "numeros = [ 0 for x in range (5)]\n",
        "print(numeros)\n",
        "#empleando la varable de control x para el valor inicial\n",
        "numeros = [ x for x in range(5)]\n",
        "print(numeros)\n",
        "print(\".-.-.-.\")\n",
        "#10,20,30,40,50,60,70,80,90,100\n",
        "numero =[(x+1)*10 for x in range(10)]\n",
        "print(numero)\n",
        "print(\".-.-.-.\")\n",
        "numeros = [x for x in range(10,101,10)]\n",
        "print(numeros)\n",
        "print(\".-.-.-.\")\n",
        "numero =[x*10 for x in range(1,11)]\n",
        "print(numeros)"
      ],
      "execution_count": null,
      "outputs": [
        {
          "output_type": "stream",
          "name": "stdout",
          "text": [
            "[0, 0, 0, 0, 0]\n",
            "[0, 0, 0, 0, 0]\n",
            "[0, 1, 2, 3, 4]\n",
            ".-.-.-.\n",
            "[10, 20, 30, 40, 50, 60, 70, 80, 90, 100]\n",
            ".-.-.-.\n",
            "[10, 20, 30, 40, 50, 60, 70, 80, 90, 100]\n",
            ".-.-.-.\n",
            "[10, 20, 30, 40, 50, 60, 70, 80, 90, 100]\n"
          ]
        }
      ]
    },
    {
      "cell_type": "code",
      "metadata": {
        "colab": {
          "base_uri": "https://localhost:8080/"
        },
        "id": "lOD9j_N8XG31",
        "outputId": "df0b90c3-d65f-42d4-d7c5-10660a552696"
      },
      "source": [
        "# ejercicios: calcular promedio de edades\n",
        "edades = [0 for x in range(5)]\n",
        "print(edades)"
      ],
      "execution_count": null,
      "outputs": [
        {
          "output_type": "stream",
          "name": "stdout",
          "text": [
            "[0, 0, 0, 0, 0]\n",
            "[15, 28, 41, 54, 67]\n"
          ]
        }
      ]
    },
    {
      "cell_type": "code",
      "metadata": {
        "colab": {
          "base_uri": "https://localhost:8080/"
        },
        "id": "DveX9ICQYnQ1",
        "outputId": "04ead124-33d9-47e3-9bce-df0b123d2955"
      },
      "source": [
        "suma = 0\n",
        "edades = [0 for f in range(5)]\n",
        "for x in range(5):\n",
        "    edades[x]=int(input(\"Dame una edad: \"))\n",
        "    suma = suma +edades[x]\n",
        "print(edades)\n",
        "print(\"Promedio: \",suma/5)\n"
      ],
      "execution_count": null,
      "outputs": [
        {
          "output_type": "stream",
          "name": "stdout",
          "text": [
            "Dame una edad: 33\n",
            "Dame una edad: 1\n",
            "Dame una edad: 8\n",
            "Dame una edad: 3\n",
            "Dame una edad: 12\n",
            "[33, 1, 8, 3, 12]\n",
            "Promedio:  11.4\n"
          ]
        }
      ]
    },
    {
      "cell_type": "code",
      "metadata": {
        "colab": {
          "base_uri": "https://localhost:8080/"
        },
        "id": "y2d7h-5vbuoz",
        "outputId": "5ec70fc4-e240-4e3d-d902-03527a92ca0e"
      },
      "source": [
        "import random\n",
        "print(random.random())\n",
        "print(random.uniform(5,11))\n",
        "val = round(random.uniform(5,11),2)\n",
        "print(val)\n",
        "\n",
        "\n",
        "valores = [round(random.uniform(5,11),2) for x in range(20)]\n",
        "print(valores)"
      ],
      "execution_count": null,
      "outputs": [
        {
          "output_type": "stream",
          "name": "stdout",
          "text": [
            "0.4778360343313459\n",
            "6.1611559548822346\n",
            "10.45\n",
            "[7.92, 9.57, 6.86, 10.46, 7.68, 8.85, 7.8, 7.28, 10.9, 8.38, 9.63, 8.71, 10.67, 7.61, 6.46, 6.27, 6.02, 9.13, 10.5, 10.47]\n"
          ]
        }
      ]
    },
    {
      "cell_type": "markdown",
      "metadata": {
        "id": "Nzt2xqDCd6YA"
      },
      "source": [
        "hacer lista que diga que numero es menor, el mayor"
      ]
    },
    {
      "cell_type": "markdown",
      "metadata": {
        "id": "PmlHUqOh6IrV"
      },
      "source": [
        "# Estructura de control de repeticion Haz - mientras.\n",
        "Una estructura de control haz - mientras nos permite ejecutar repetidamente mientrs una condicion se siga cumpliendo.\n",
        "\n",
        "# Sintaxis\n",
        "\n",
        "\n",
        "```\n",
        "while <condicion>:\n",
        "    <Bloque de sentencia a ejecutar repetidamente>\n",
        "<Siguientesentencia de posterior while\n",
        "```\n",
        "La diferencia principal en comparacion con la estructura for es que en while NO conoces el numero de ciclos a ejecutar, en for si se conoce.\n",
        "\n",
        "###Como por ejemplo con el siguiente enunciado.\n",
        "\n",
        "Hacer una programa que solicite un valor entero positivo y calcule repetidamente la mitad y se reasigne a la misma variable. El ciclo se debe detener cuando el resultado sea menor que 1.\n",
        "mostrar en la pantalla el resultado de cada calculo y al final el numero de iteraciones que realizo.\n",
        "\n",
        "\n",
        "```\n",
        "# Introduce un numero entero positivo:17\n",
        "8.5\n",
        "4.25\n",
        "2.10\n",
        "1.5\n",
        ".5\n",
        "\n",
        "```\n",
        "\n",
        "\n"
      ]
    },
    {
      "cell_type": "code",
      "metadata": {
        "id": "y5QU4Y4GcmB6",
        "colab": {
          "base_uri": "https://localhost:8080/"
        },
        "outputId": "fb090f44-39be-4d9f-8ff6-e54aeb326353"
      },
      "source": [
        "valor = int(input(\"Introduce un numero entero positivo\"))\n",
        "contador = 0 \n",
        "if valor > 0:\n",
        "    while valor >1.0:\n",
        "        valor = valor/2\n",
        "        print(round(valor,2))\n",
        "        contador +=1\n",
        "else:\n",
        "    print(\"El numero es negativo, intenta de nuevo\")\n",
        "print(\"Total de iteraciones= \",contador)"
      ],
      "execution_count": 1,
      "outputs": [
        {
          "output_type": "stream",
          "name": "stdout",
          "text": [
            "Introduce un numero entero positivo261541\n",
            "130770.5\n",
            "65385.25\n",
            "32692.62\n",
            "16346.31\n",
            "8173.16\n",
            "4086.58\n",
            "2043.29\n",
            "1021.64\n",
            "510.82\n",
            "255.41\n",
            "127.71\n",
            "63.85\n",
            "31.93\n",
            "15.96\n",
            "7.98\n",
            "3.99\n",
            "2.0\n",
            "1.0\n",
            "Total de iteraciones=  18\n"
          ]
        }
      ]
    },
    {
      "cell_type": "code",
      "metadata": {
        "colab": {
          "base_uri": "https://localhost:8080/"
        },
        "id": "on5ABT4I8scY",
        "outputId": "3456b9c3-5a9d-49cf-91d7-4a8255ca26d2"
      },
      "source": [
        "valor = int(input(\"Dame un valor enterO: \"))\n",
        "\n",
        "while valor !=0:\n",
        "    print(valor)\n",
        "    valor = int(input(\"Dame un valor entero: \"))\n",
        "print(\"Fin del programa\")\n"
      ],
      "execution_count": 4,
      "outputs": [
        {
          "output_type": "stream",
          "name": "stdout",
          "text": [
            "Dame un valor enterO: 5\n",
            "5\n",
            "Dame un valor entero: 8\n",
            "Fin del programa\n",
            "8\n",
            "Dame un valor entero: 0\n",
            "Fin del programa\n"
          ]
        }
      ]
    },
    {
      "cell_type": "code",
      "metadata": {
        "colab": {
          "base_uri": "https://localhost:8080/"
        },
        "id": "1cMAxkQD9SKl",
        "outputId": "24824871-9b67-4e6a-8543-ab9b151031a9"
      },
      "source": [
        "valor = int(input(\"Dame un valor enterO: \"))\n",
        "while valor !=0:     #DE AQUI \n",
        "    print(valor)\n",
        "    print(\"Otras cosas\")     #AQUI SE REPITE SI NO LE PONES FIN\n",
        "\n",
        "\n",
        "print(\"Fin del programa\")"
      ],
      "execution_count": 11,
      "outputs": [
        {
          "output_type": "stream",
          "name": "stdout",
          "text": [
            "Dame un valor enterO: 0\n",
            "Fin del programa\n"
          ]
        }
      ]
    },
    {
      "cell_type": "markdown",
      "metadata": {
        "id": "B2iGXLVd6IQ1"
      },
      "source": [
        "escribe un programa que permita generar la tabla de multiplicar de un numero entero positivo N, comentando desde el 1,\n",
        "\n",
        "Si el usuario escribe un numero incorrecto, el programa no se ejecuta, en cambio de nuevo hasta que el dato ingresado sea el correcto"
      ]
    },
    {
      "cell_type": "code",
      "metadata": {
        "colab": {
          "base_uri": "https://localhost:8080/"
        },
        "id": "0j1SXVQR_5HM",
        "outputId": "b285103d-6a74-40bd-cd08-df48e4b1abfc"
      },
      "source": [
        "N = int(input(\"Ingrese un numero entero positivo: \"))\n",
        "if N > 0:\n",
        "    print(\"Es correcto\")\n",
        "    for i in range(1,11):\n",
        "        print(N,\"por\",i,\"es igual a: \",N*(i+1))\n",
        "\n",
        "else:\n",
        "    print(\"El numero ingresado no es correcto\")\n"
      ],
      "execution_count": 20,
      "outputs": [
        {
          "output_type": "stream",
          "name": "stdout",
          "text": [
            "Ingrese un numero entero positivo: 2\n",
            "Es correcto\n",
            "2 por 1 es igual a:  4\n",
            "2 por 2 es igual a:  6\n",
            "2 por 3 es igual a:  8\n",
            "2 por 4 es igual a:  10\n",
            "2 por 5 es igual a:  12\n",
            "2 por 6 es igual a:  14\n",
            "2 por 7 es igual a:  16\n",
            "2 por 8 es igual a:  18\n",
            "2 por 9 es igual a:  20\n",
            "2 por 10 es igual a:  22\n"
          ]
        }
      ]
    },
    {
      "cell_type": "code",
      "metadata": {
        "colab": {
          "base_uri": "https://localhost:8080/"
        },
        "id": "-Im8rihiBIet",
        "outputId": "b0e78bb6-0338-4deb-c58a-5724c75b9762"
      },
      "source": [
        "COMPROBAR = True\n",
        "\n",
        "while COMPROBAR == True:\n",
        "    N = int(input(\"Ingrese un numero entero positivo: \"))\n",
        "    if N > 0: \n",
        "        i = 1#Se inicializa el valor en 1\n",
        "        while i <11:\n",
        "            print(N, \"por\",i, \"es igual a\", N*i)\n",
        "            i+=1  #i va a se igual a la misma variable mas 1\n",
        "            COMPROBAR = False\n",
        "    else:\n",
        "        print(\"El numero ingresado no es correcto\")"
      ],
      "execution_count": 35,
      "outputs": [
        {
          "output_type": "stream",
          "name": "stdout",
          "text": [
            "Ingrese un numero entero positivo: -2\n",
            "El numero ingresado no es correcto\n",
            "Ingrese un numero entero positivo: 5\n",
            "5 por 1 es igual a 5\n",
            "5 por 2 es igual a 10\n",
            "5 por 3 es igual a 15\n",
            "5 por 4 es igual a 20\n",
            "5 por 5 es igual a 25\n",
            "5 por 6 es igual a 30\n",
            "5 por 7 es igual a 35\n",
            "5 por 8 es igual a 40\n",
            "5 por 9 es igual a 45\n",
            "5 por 10 es igual a 50\n"
          ]
        }
      ]
    },
    {
      "cell_type": "markdown",
      "metadata": {
        "id": "xvkoA1d0KdKk"
      },
      "source": [
        "Escribe un programa que al recibir como dato un numero entero positivo n calcule el resultado de la siguiet serie.\n",
        "1+(1/2)+(1/3)+ (1/4)...+(1/n)\n",
        "Si el usuario escribe un nuemro incorrecto , el programa no se ejecuta. En cambio pregunta de nuevo por la informacion hasta que de el dato ingresado sea correcto."
      ]
    },
    {
      "cell_type": "code",
      "metadata": {
        "colab": {
          "base_uri": "https://localhost:8080/"
        },
        "id": "5lO6JV-gGCr8",
        "outputId": "3f0b4d0a-0232-48c4-fdad-70526ce6b700"
      },
      "source": [
        "comprobar = True\n",
        "\n",
        "while comprobar == True:\n",
        "\n",
        "    n = int(input(\"Ingrese un numero entero positivo: \"))\n",
        "    if n>0:\n",
        "        comprobar = False\n",
        "        resultado = 0\n",
        "        for i in range(1,n+1):\n",
        "            resultado += (1/i)\n",
        "            print(\"El resultado de la serie es: \", resultado)\n",
        "    else:\n",
        "        print(\"El numero ingresado no es correcto, intente de nuevo\")     \n"
      ],
      "execution_count": 47,
      "outputs": [
        {
          "output_type": "stream",
          "name": "stdout",
          "text": [
            "Ingrese un numero entero positivo: 0\n",
            "El numero ingresado no es correcto, intente de nuevo\n",
            "Ingrese un numero entero positivo: 6\n",
            "El resultado de la serie es:  1.0\n",
            "El resultado de la serie es:  1.5\n",
            "El resultado de la serie es:  1.8333333333333333\n",
            "El resultado de la serie es:  2.083333333333333\n",
            "El resultado de la serie es:  2.283333333333333\n",
            "El resultado de la serie es:  2.4499999999999997\n"
          ]
        }
      ]
    },
    {
      "cell_type": "code",
      "metadata": {
        "id": "N-YX9SznLCP-"
      },
      "source": [
        ""
      ],
      "execution_count": null,
      "outputs": []
    }
  ]
}