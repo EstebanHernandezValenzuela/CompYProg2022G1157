{
  "nbformat": 4,
  "nbformat_minor": 0,
  "metadata": {
    "colab": {
      "name": "Tarea 5.ipynb",
      "provenance": [],
      "authorship_tag": "ABX9TyMrVcqboFuxSPD37wD29c2R",
      "include_colab_link": true
    },
    "kernelspec": {
      "name": "python3",
      "display_name": "Python 3"
    },
    "language_info": {
      "name": "python"
    }
  },
  "cells": [
    {
      "cell_type": "markdown",
      "metadata": {
        "id": "view-in-github",
        "colab_type": "text"
      },
      "source": [
        "<a href=\"https://colab.research.google.com/github/EstebanHernandezValenzuela/CompYProg2022G1157/blob/main/Tarea_5.ipynb\" target=\"_parent\"><img src=\"https://colab.research.google.com/assets/colab-badge.svg\" alt=\"Open In Colab\"/></a>"
      ]
    },
    {
      "cell_type": "markdown",
      "metadata": {
        "id": "CYBwFptdUdK9"
      },
      "source": [
        "#1."
      ]
    },
    {
      "cell_type": "code",
      "metadata": {
        "colab": {
          "base_uri": "https://localhost:8080/"
        },
        "id": "IGS9TSAkUUWZ",
        "outputId": "be6c2812-36f0-438b-f637-4cee58031ef2"
      },
      "source": [
        "NUM1 = int(input(\"Dame un numero entero:  \"))\n",
        "NUM2 = int(input(\"Dame un otro numero entero: \"))\n",
        "\n",
        "if NUM1 > NUM2:\n",
        "    print(f\"{NUM1} Es mayor que {NUM2}\")\n",
        "if NUM1 < NUM2:\n",
        "    print(f\"{NUM1} Es menor que {NUM2}\")\n",
        "if NUM1 == NUM2:\n",
        "    print(f\"{NUM1} Y {NUM2} son iguales\")\n",
        "\n",
        "print(\"FIN\")\n"
      ],
      "execution_count": 116,
      "outputs": [
        {
          "output_type": "stream",
          "name": "stdout",
          "text": [
            "Dame un numero entero:  2\n",
            "Dame un otro numero entero: 9\n",
            "2 Es menor que 9\n",
            "FIN\n"
          ]
        }
      ]
    },
    {
      "cell_type": "markdown",
      "metadata": {
        "id": "D7CN0g2MUds0"
      },
      "source": [
        "#2."
      ]
    },
    {
      "cell_type": "code",
      "metadata": {
        "colab": {
          "base_uri": "https://localhost:8080/"
        },
        "id": "sh5qUnXnUeGg",
        "outputId": "a1ac854b-31d7-4b3a-8947-360f49f33ada"
      },
      "source": [
        "NUM1 = int(input(\"Dame un numero entero:  \"))\n",
        "NUM2 = int(input(\"Dame un otro numero entero diferente: \"))\n",
        "NUM3 = int(input(\"Dame un otro numero entero diferente: \"))\n",
        "\n",
        "if NUM1 > NUM2 and NUM1 > NUM3:\n",
        "    print(f\"{NUM1} Es MAYOR que {NUM2} y {NUM3}\")\n",
        "if NUM2 > NUM1 and NUM2 > NUM3:\n",
        "    print(f\"{NUM2} Es MAYOR que {NUM1} Y {NUM3}\")\n",
        "if NUM3 > NUM1 and NUM3 > NUM2:\n",
        "    print(f\"{NUM3} Es MAYOR que {NUM2} y {NUM1}\")\n",
        "    \n",
        "if NUM1 == NUM2 or NUM1 == NUM3 or NUM2 == NUM3 or NUM2 == NUM1 or NUM1 == NUM2 == NUM3:\n",
        "    print(\"No pusiste numeros diferentes\")\n",
        "print(\"FIN\")"
      ],
      "execution_count": 97,
      "outputs": [
        {
          "output_type": "stream",
          "name": "stdout",
          "text": [
            "Dame un numero entero:  2\n",
            "Dame un otro numero entero diferente: 8\n",
            "Dame un otro numero entero diferente: 1\n",
            "8 Es MAYOR que 2 Y 1\n",
            "FIN\n"
          ]
        }
      ]
    },
    {
      "cell_type": "markdown",
      "metadata": {
        "id": "oKvI9YjUUeZ_"
      },
      "source": [
        "# #3"
      ]
    },
    {
      "cell_type": "code",
      "metadata": {
        "colab": {
          "base_uri": "https://localhost:8080/"
        },
        "id": "N0dZh2AEUeuX",
        "outputId": "3976d7a9-1cb2-40b8-a14c-a8e4a5c53d55"
      },
      "source": [
        "NUM1 = int(input(\"Dame un numero entero:  \"))\n",
        "NUM2 = int(input(\"Dame un otro numero entero diferente: \"))\n",
        "NUM3 = int(input(\"Dame un otro numero entero diferente: \"))\n",
        "\n",
        "if NUM1 < NUM2 and NUM1 < NUM3:\n",
        "    print(f\"{NUM1} Es MENOR que {NUM2} y {NUM3}\")\n",
        "if NUM2 < NUM1 and NUM2 < NUM3:\n",
        "    print(f\"{NUM2} Es MENOR que {NUM1} Y {NUM3}\")\n",
        "if NUM3 < NUM1 and NUM3 < NUM2:\n",
        "    print(f\"{NUM3} Es MENOR que {NUM2} y {NUM1}\")\n",
        "\n",
        "if NUM1 == NUM2 or NUM1 == NUM3 or NUM2 == NUM3 or NUM2 == NUM1 or NUM1 ==NUM2 == NUM3:\n",
        "    print(\"No pusiste numeros diferentes\")\n",
        "print(\"FIN\")"
      ],
      "execution_count": 98,
      "outputs": [
        {
          "output_type": "stream",
          "name": "stdout",
          "text": [
            "Dame un numero entero:  2\n",
            "Dame un otro numero entero diferente: 8\n",
            "Dame un otro numero entero diferente: 1\n",
            "1 Es MENOR que 8 y 2\n",
            "FIN\n"
          ]
        }
      ]
    },
    {
      "cell_type": "markdown",
      "metadata": {
        "id": "Jp2Npo1ZUfAW"
      },
      "source": [
        "#4."
      ]
    },
    {
      "cell_type": "code",
      "metadata": {
        "colab": {
          "base_uri": "https://localhost:8080/"
        },
        "id": "aDSdX0doUfS0",
        "outputId": "3d953910-2036-49ae-a9c6-ff930fe4dce8"
      },
      "source": [
        "NUM1 = int(input(\"Dame un numero entero:  \"))\n",
        "NUM2 = int(input(\"Dame un otro numero entero diferente: \"))\n",
        "NUM3 = int(input(\"Dame un otro numero entero diferente: \"))\n",
        "NUM4 = int(input(\"Dame un otro numero entero diferente: \"))\n",
        "\n",
        "if NUM1 < NUM2 and NUM1 < NUM3 and NUM1 < NUM4:\n",
        "    print(f\"{NUM1} Es MENOR que {NUM2}, {NUM3} y {NUM4}\")\n",
        "if NUM2 < NUM1 and NUM2 < NUM3 and NUM2 < NUM4:\n",
        "    print(f\"{NUM2} Es MENOR que {NUM1}, {NUM3} y {NUM4}\")\n",
        "if NUM3 < NUM1 and NUM3 < NUM2 and NUM3 < NUM4:\n",
        "    print(f\"{NUM3} Es MENOR que {NUM2}, {NUM1} y {NUM4}\")\n",
        "if NUM4 < NUM1 and NUM4 < NUM2 and NUM4 < NUM3:\n",
        "    print(f\"{NUM4} Es MENOR que {NUM2}, {NUM1} y {NUM3}\")\n",
        "\n",
        "if NUM1 > NUM2 and NUM1 > NUM3 and NUM1 > NUM4:\n",
        "    print(f\"{NUM1} Es MAYOR que {NUM2}, {NUM3} y {NUM4}\")\n",
        "if NUM2 > NUM1 and NUM2 > NUM3 and NUM2 > NUM4:\n",
        "    print(f\"{NUM2} Es MAYOR que {NUM1}, {NUM3} y {NUM4}\")\n",
        "if NUM3 > NUM1 and NUM3 > NUM2 and NUM3 > NUM4:\n",
        "    print(f\"{NUM3} Es MAYOR que {NUM2}, {NUM1} y {NUM4}\")\n",
        "if NUM4 > NUM1 and NUM4 > NUM2 and NUM4 > NUM3:\n",
        "    print(f\"{NUM4} Es MAYOR que {NUM2}, {NUM1} y {NUM3}\")\n",
        "\n",
        "if NUM1 == NUM2 or NUM1 == NUM3 or NUM2 == NUM3 or NUM1 ==NUM2 == NUM3 or NUM1 == NUM4 or NUM4 == NUM2 or NUM4 == NUM3 or NUM1 == NUM2 == NUM3 == NUM4  :\n",
        "    print(\"No pusiste numeros diferentes\")\n",
        "print(\"FIN\")"
      ],
      "execution_count": 115,
      "outputs": [
        {
          "output_type": "stream",
          "name": "stdout",
          "text": [
            "Dame un numero entero:  6\n",
            "Dame un otro numero entero diferente: 3\n",
            "Dame un otro numero entero diferente: 2\n",
            "Dame un otro numero entero diferente: 9\n",
            "2 Es MENOR que 3, 6 y 9\n",
            "9 Es MAYOR que 3, 6 y 2\n",
            "FIN\n"
          ]
        }
      ]
    }
  ]
}