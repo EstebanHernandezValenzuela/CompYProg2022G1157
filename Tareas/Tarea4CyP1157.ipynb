{
  "nbformat": 4,
  "nbformat_minor": 0,
  "metadata": {
    "colab": {
      "name": "Tarea4CyP1157.ipynb",
      "provenance": [],
      "authorship_tag": "ABX9TyNCdgCRBRkCmDZd2Ypu6emz",
      "include_colab_link": true
    },
    "kernelspec": {
      "name": "python3",
      "display_name": "Python 3"
    },
    "language_info": {
      "name": "python"
    }
  },
  "cells": [
    {
      "cell_type": "markdown",
      "metadata": {
        "id": "view-in-github",
        "colab_type": "text"
      },
      "source": [
        "<a href=\"https://colab.research.google.com/github/EstebanHernandezValenzuela/CompYProg2022G1157/blob/main/Tareas/Tarea4CyP1157.ipynb\" target=\"_parent\"><img src=\"https://colab.research.google.com/assets/colab-badge.svg\" alt=\"Open In Colab\"/></a>"
      ]
    },
    {
      "cell_type": "markdown",
      "metadata": {
        "id": "aRAgluD0PFWq"
      },
      "source": [
        "###Tarea\n",
        "- Con una sola funcion Por letra print, escribir su primer nombre (nombre de pila) de la siguiente forma. UNA FUNCION POR LETRA\n",
        "\n",
        "E  E  E    \n",
        "E         \n",
        "E  E       \n",
        "E               \n",
        "E  E  E   \n",
        "\n",
        "S  S  S  \n",
        "S\n",
        "S S S S \n",
        "      S\n",
        "S S S S\n",
        "\n",
        "T T T T T\n",
        "    T\n",
        "    T\n",
        "    T \n",
        "    T\n",
        "\n",
        "E  E  E    \n",
        "E         \n",
        "E  E        \n",
        "E               \n",
        "E  E  E  \n",
        "\n",
        "B B B B\n",
        "B     B\n",
        "B B B \n",
        "B     B\n",
        "B B B B\n",
        "\n",
        "    AA\n",
        "  AA  AA\n",
        " AAAAAAAA\n",
        "AAA    AAA\n",
        "\n",
        "NNNN    NN \n",
        "NN NN   NN\n",
        "NN   NN NN\n",
        "NN     NNN   "
      ]
    },
    {
      "cell_type": "code",
      "metadata": {
        "colab": {
          "base_uri": "https://localhost:8080/"
        },
        "id": "9co86dTlIVel",
        "outputId": "4d0211fd-4c99-4842-f717-8dbdbfe47c1c"
      },
      "source": [
        "print('EEEEEE \\tSSSSSS \\tTTTTTT \\tEEEEEE \\tBBBBBB \\t     AA \\tNNN      NN \\nEE \\tSS \\t  TT \\tEE \\tBB  BB \\t   AA  AA \\tNN NN    NN \\nEEEEE \\tSSSSSS \\t  TT \\tEEEEE \\tBBBB \\t  AA    AA \\tNN  NN   NN\\nEE \\t    SS \\t  TT \\tEE \\tBB  BB \\t AAAAAAAAAA  \\tNN    NN NN\\nEEEEEE \\tSSSSSS \\t  TT \\tEEEEEE \\tBBBBBB \\tAAA      AAA \\tNN     NNNN')"
      ],
      "execution_count": 68,
      "outputs": [
        {
          "output_type": "stream",
          "name": "stdout",
          "text": [
            "EEEEEE \tSSSSSS \tTTTTTT \tEEEEEE \tBBBBBB \t     AA \tNNN      NN \n",
            "EE \tSS \t  TT \tEE \tBB  BB \t   AA  AA \tNN NN    NN \n",
            "EEEEE \tSSSSSS \t  TT \tEEEEE \tBBBB \t  AA    AA \tNN  NN   NN\n",
            "EE \t    SS \t  TT \tEE \tBB  BB \t AAAAAAAAAA  \tNN    NN NN\n",
            "EEEEEE \tSSSSSS \t  TT \tEEEEEE \tBBBBBB \tAAA      AAA \tNN     NNNN\n"
          ]
        }
      ]
    },
    {
      "cell_type": "code",
      "metadata": {
        "id": "wKM8gCbEO_g7"
      },
      "source": [
        ""
      ],
      "execution_count": null,
      "outputs": []
    }
  ]
}