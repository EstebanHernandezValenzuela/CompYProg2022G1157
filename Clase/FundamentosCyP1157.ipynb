{
  "nbformat": 4,
  "nbformat_minor": 0,
  "metadata": {
    "colab": {
      "name": "FundamentosCyP1157.ipynb",
      "provenance": [],
      "collapsed_sections": [],
      "authorship_tag": "ABX9TyNiGhdOtVmjgooIYB0FG7dI",
      "include_colab_link": true
    },
    "kernelspec": {
      "name": "python3",
      "display_name": "Python 3"
    },
    "language_info": {
      "name": "python"
    }
  },
  "cells": [
    {
      "cell_type": "markdown",
      "metadata": {
        "id": "view-in-github",
        "colab_type": "text"
      },
      "source": [
        "<a href=\"https://colab.research.google.com/github/EstebanHernandezValenzuela/CompYProg2022G1157/blob/main/Clase/FundamentosCyP1157.ipynb\" target=\"_parent\"><img src=\"https://colab.research.google.com/assets/colab-badge.svg\" alt=\"Open In Colab\"/></a>"
      ]
    },
    {
      "cell_type": "code",
      "metadata": {
        "colab": {
          "base_uri": "https://localhost:8080/"
        },
        "id": "FnBzTBx6XU4N",
        "outputId": "3528055b-4425-406f-b3c1-6e29eda6c590"
      },
      "source": [
        "nombre = 'José'  #Tipo de dato String (cadena de caracteres)\n",
        "print(nombre)\n"
      ],
      "execution_count": null,
      "outputs": [
        {
          "output_type": "stream",
          "name": "stdout",
          "text": [
            "José\n"
          ]
        }
      ]
    },
    {
      "cell_type": "markdown",
      "metadata": {
        "id": "IZE4Tse2XvOj"
      },
      "source": [
        "#Tipos de datos en python\n",
        "\n",
        "- str  --> String cadema de caractéres.\n",
        "- int  --> Números enteros\n",
        "- float--> Numeros con notación de punto flotante.\n",
        "- complex--> Numeros complejos\n",
        "- bool--> Boleano (True or False) \n",
        "- byte--> 8 bits\n",
        "\n",
        "### Tipo de datos estructurados (compuestos)\n",
        "\n",
        "\n",
        "- list--> Listas\n",
        "- tuple--> Listas mutables\n",
        "- dict--> Diccionarios\n",
        "- set y frozenset--> Conjuntos \n"
      ]
    },
    {
      "cell_type": "code",
      "metadata": {
        "colab": {
          "base_uri": "https://localhost:8080/"
        },
        "id": "T6mWP6btaX9p",
        "outputId": "3a13aa72-2e41-49e1-b52b-bed7b11d342f"
      },
      "source": [
        "import sys\n",
        "edad = 19\n",
        "\n",
        "print('Tu edad es:',edad) #Al final de un línea de cóigo\n",
        "# Este en un comentario de línea simple \n",
        "'''\n",
        "Comentario de multiple lineas\n",
        "En lenguaje C, C++ y Java el comentatio de multiple línea es un\n",
        " /*  .....  *\\\n",
        "\n",
        " En lenguaje C, C++ y Java el comentario de una sola línea es con:\n",
        " //\n",
        "\n",
        " Aqui puedes explicar en prosa el segmento de un codigo para futura reco\n",
        " '''\n",
        " #Tipos de dato numerico int y float\n",
        "\n",
        "sys.getsizeof(edad)\n",
        "#La biblioteca sys representa a la computadora actual\n",
        "\n",
        "edad = edad + 1\n",
        "print( edad )\n",
        "\n",
        "estructura = 1.56\n",
        "print( estructura )\n",
        "print( sys.getsizeof(estructura) )\n",
        "estructura=estructura + 0.1\n",
        "print( estructura,)\n",
        "print(round(estructura,2))\n",
        "\n",
        "edad += 1  # edad = edad +1\n",
        "print( edad )\n",
        "print('Tu edad es:',edad)\n",
        "\n",
        "edad -= 1  # edad = edad -1\n",
        "print( edad )\n",
        "print('Tu edad es:',edad)\n",
        "\n",
        "edad /= 2  # edad = edad / 2\n",
        "print( edad )\n",
        "print('Tu edad es:',edad)\n",
        "\n",
        "edad = 21 \n",
        "'''volver a calcular la mitad de la edad pero \n",
        "solo dejar la parte entera (sin decimales)'''\n",
        "edad = edad // 2\n",
        "print('La mitad de tu edad es :',edad)\n",
        "\n",
        "'''En la mayoría de los lenguajes no permite operaciones\n",
        "entre diferentes tipos de datos, en python no es el caso'''\n",
        "\n",
        "numero = edad / 2.0\n",
        "print( numero )\n",
        "\n",
        "numero *= 3   #\n",
        "print( numero )\n",
        "\n",
        "numero = 5.0\n",
        "numero **= 2  # se eleva el numero con **\n",
        "print( numero )\n"
      ],
      "execution_count": null,
      "outputs": [
        {
          "output_type": "stream",
          "name": "stdout",
          "text": [
            "Tu edad es: 19\n",
            "20\n",
            "1.56\n",
            "24\n",
            "1.6600000000000001\n",
            "1.66\n",
            "21\n",
            "Tu edad es: 21\n",
            "20\n",
            "Tu edad es: 20\n",
            "10.0\n",
            "Tu edad es: 10.0\n",
            "La mitad de tu edad es : 10\n",
            "5.0\n",
            "15.0\n",
            "25.0\n"
          ]
        }
      ]
    },
    {
      "cell_type": "code",
      "metadata": {
        "id": "01GaWAGnl1mm"
      },
      "source": [
        "#operador modulo\n",
        "numero = 21\n",
        "print( numero / 2 )\n",
        "print( numero // 2 ) \n",
        "'''El operador modulo da como resultado el residuo\n",
        " de una division entera'''\n",
        " print( numero % 2 )\n",
        "\n",
        "numero = 24\n",
        " print('Residuo de 24/5:',numero % 5 )\n",
        "\n",
        "#operadores relacionales (logicos)\n",
        " print( '24 es par?=' numero % 2 ==0 )\n",
        "\n",
        "#diferencia\n",
        "print( '24 es diferente de 23=', numero != 23)\n",
        "print('24 es mayor que 23'. numero > 23)\n",
        "print('24 es menor que 23'. numero < 23)\n",
        "\n",
        "print('24 es mayor o igual que que 24'. numero >= 24)\n",
        "print('24 es menor o igual que que 23'. numero <= 23)"
      ],
      "execution_count": null,
      "outputs": []
    },
    {
      "cell_type": "markdown",
      "metadata": {
        "id": "z-SauAhrplQe"
      },
      "source": [
        "#Tipo de dato String (str) en Python\n",
        "\n",
        "- Se maneja como un arreglo (tipo de dato compuesto)\n",
        "- Se puede acceder a los elementos de el string por medio del índice del caracter. \n",
        "- Mutable\n",
        "- Tiene metodos utiles (potentes)\n",
        "- Slicing\n"
      ]
    },
    {
      "cell_type": "code",
      "metadata": {
        "id": "GxGpVtM2ohh7"
      },
      "source": [
        "nombre = 'jose'\n",
        "carrera = 'Ingeniería en computación'\n",
        "frase = '''El conocimiento \n",
        "me persigue......\n",
        "pero \n",
        "yo soy mas rápido\n",
        "'''\n",
        "\n",
        "print( nombre )\n",
        "print( carrera )\n",
        "print( frase )\n",
        "\n",
        "# La función type de Python te devuelve el tipo de dato de una variable\n",
        " print(type(nombre))\n",
        "\n",
        " paterno = str( 'Perez' )\n",
        " print( paterno )\n"
      ],
      "execution_count": null,
      "outputs": []
    },
    {
      "cell_type": "markdown",
      "metadata": {
        "id": "vQHT_igNpPzf"
      },
      "source": [
        "### Una clase (class) es un tipo de dato compuesto"
      ]
    },
    {
      "cell_type": "markdown",
      "metadata": {
        "id": "qtPrERyMvFGw"
      },
      "source": [
        "### A la sintaxis escrita para elegir un elemento de datos se le llama selector\n",
        "En el caso de Strings y listas(lst) se usan caracteres '['y']'\n",
        "\n",
        "1. En todos los lenguajes los arreglos inician en 0.\n",
        "2. En python no existe tal el tipo de dato arreglo, el concepto es sustituido por las listas.\n",
        "3. Los strings se comportan como un arreglo en la mayoria de los lenguajes.\n",
        "4. En python se acepta en indexado negativo, en otros lenguajes NO."
      ]
    },
    {
      "cell_type": "code",
      "metadata": {
        "id": "XnyAE29Yqr4a",
        "colab": {
          "base_uri": "https://localhost:8080/"
        },
        "outputId": "2827f47d-6370-4068-e2c0-c0884870c5fe"
      },
      "source": [
        "carrera = 'Ingenieria en computacion'\n",
        "print( carrera )\n",
        "print( carrera [2] )\n",
        "print(carrera [-1])\n",
        "print( carrera [-25])\n",
        "\n",
        "#Adelantando el ciclo FOR\n",
        "\n",
        "for letra in carrera:\n",
        "  print('-->',letra,'<--')\n",
        "  \n"
      ],
      "execution_count": null,
      "outputs": [
        {
          "output_type": "stream",
          "name": "stdout",
          "text": [
            "Ingenieria en computacion\n",
            "g\n",
            "n\n",
            "I\n",
            "--> I <--\n",
            "--> n <--\n",
            "--> g <--\n",
            "--> e <--\n",
            "--> n <--\n",
            "--> i <--\n",
            "--> e <--\n",
            "--> r <--\n",
            "--> i <--\n",
            "--> a <--\n",
            "-->   <--\n",
            "--> e <--\n",
            "--> n <--\n",
            "-->   <--\n",
            "--> c <--\n",
            "--> o <--\n",
            "--> m <--\n",
            "--> p <--\n",
            "--> u <--\n",
            "--> t <--\n",
            "--> a <--\n",
            "--> c <--\n",
            "--> i <--\n",
            "--> o <--\n",
            "--> n <--\n"
          ]
        }
      ]
    },
    {
      "cell_type": "markdown",
      "metadata": {
        "id": "gIN7OdvWvAnQ"
      },
      "source": [
        ""
      ]
    },
    {
      "cell_type": "markdown",
      "metadata": {
        "id": "odSjIhRKruIe"
      },
      "source": [
        "### Slicing (rebanado) de cadenas\n",
        "Permite seleccionar subcadenas con el operador\n",
        "\n",
        "###[Inicio : stop : incremento]\n",
        "El stop no se incluye, es por eso que debemos agregar una posicion extra.\n",
        "### Slicing y valores por defecto \n",
        "\n",
        "Inicio por defecto siempre sera 0 stop: tamaño del arreglo )indexado positivo, indexado negativo)\n"
      ]
    },
    {
      "cell_type": "code",
      "metadata": {
        "id": "uVvzmZI2vf6f",
        "colab": {
          "base_uri": "https://localhost:8080/"
        },
        "outputId": "15d910ad-545e-44cb-97b4-e97cfc1fecc1"
      },
      "source": [
        "carrera = 'Ingeniería en computación'\n",
        "print( carrera [0 : 10 : 1])\n",
        "\n",
        "print( carrera [14: 25: 1])\n",
        "#Lo mismo pero con indexado negativo\n",
        "print( carrera [-11 :-1 : 1] )\n",
        "print(carrera [:10:])\n",
        "print( carrera [14:25:])\n",
        "print(carrera[-11: :1])\n",
        "\n",
        "#Solucion previa \n",
        "print('-------')\n",
        "print(carrera [-11 : 25 : 1])\n",
        "print(carrera [-11: :1])\n",
        "\n",
        "#Ejercicio para ver incremento\n",
        "print(carrera [0:10:2])\n",
        "print(carrera[25:-13:-1])"
      ],
      "execution_count": null,
      "outputs": [
        {
          "output_type": "stream",
          "name": "stdout",
          "text": [
            "Ingeniería\n",
            "computación\n",
            "computació\n",
            "Ingeniería\n",
            "computación\n",
            "computación\n",
            "-------\n",
            "computación\n",
            "computación\n",
            "Igneí\n",
            "nóicatupmoc \n"
          ]
        }
      ]
    },
    {
      "cell_type": "markdown",
      "metadata": {
        "id": "g-nZi0Qa0kSM"
      },
      "source": [
        "# String y sus métodos \n",
        "\n",
        "### Todos los tipos de datos en python son objetos( Clases de la POO)\n",
        "\n",
        "## dir() y help() funciones para obtener ayuda del lenguaje Python \n",
        "\n",
        "### dir muestra las funciones de un tipo de dato como resumen.\n",
        "\n",
        "### help muestra la misma ayuda pero a detalle\n",
        "\n",
        "Metodos que inician en doble guion bajo son privados de uso interno de la clase y no deberiamos usarlos.\n",
        "\n",
        "Todos los demas son para uso exterior (para los usuarios)\n"
      ]
    },
    {
      "cell_type": "code",
      "metadata": {
        "id": "R71W354_z09I",
        "colab": {
          "base_uri": "https://localhost:8080/"
        },
        "outputId": "1fa8ffb1-5d0a-4bcc-b983-5f2aa35ed502"
      },
      "source": [
        "frutas = ' limon , fresas, manzana , aguacate '\n",
        "nombre = 'jose'\n",
        "print(frutas)\n",
        "\n",
        "print( nombre.capitalize()) #Hace mayuscula la primera\n",
        "print( nombre.upper())  #Hace mayuscula todas\n",
        "print( frutas.replace('a','4') ) #Sustituye los elementos que quieras\n",
        "frutas =  frutas.replace( 'a' , '4' ).replace( 'e','3' ).upper() \n",
        "print(frutas)\n",
        "print('-.-.-.-.-.-.-.-.-.-.-.-.-.-.-.-.-.')\n",
        "frutas='limon, fresa , manzana, aguacate '\n",
        "print(frutas.strip()) \n",
        "print(frutas.split(','))   #Añade '''\n",
        "\n",
        "print(frutas.index('n'))"
      ],
      "execution_count": null,
      "outputs": [
        {
          "output_type": "stream",
          "name": "stdout",
          "text": [
            " limon , fresas, manzana , aguacate \n",
            "Jose\n",
            "JOSE\n",
            " limon , fres4s, m4nz4n4 , 4gu4c4te \n",
            " LIMON , FR3S4S, M4NZ4N4 , 4GU4C4T3 \n",
            "-.-.-.-.-.-.-.-.-.-.-.-.-.-.-.-.-.\n",
            "limon, fresa , manzana, aguacate\n",
            "['limon', ' fresa ', ' manzana', ' aguacate ']\n",
            "4\n"
          ]
        }
      ]
    },
    {
      "cell_type": "markdown",
      "metadata": {
        "id": "gwzbCd228btO"
      },
      "source": [
        "# String y caracteres de escape\n",
        "\n",
        "\"Jose\"\n",
        "\n",
        "- \\\" ---> \"\n",
        "- \\' ---> '\n",
        "- \\n ---> Salto de linea (tecla enter)\n",
        "- \\t ---> Tabulador espacios a la izq.\n",
        "- \\uxxxx ---> Caracteres unicode. 16 bits (2 bytes)\n",
        "- \\Uxxxxxxxx---> Unicode extendido\n",
        "- \\\\-->\\\n",
        "\n",
        "https://unicode-table.com/es/\n"
      ]
    },
    {
      "cell_type": "code",
      "metadata": {
        "id": "sIrUNet32Mpv",
        "colab": {
          "base_uri": "https://localhost:8080/"
        },
        "outputId": "936850bb-b5ff-473e-b663-dc1988ba60a8"
      },
      "source": [
        "print(\" \\\"Jose\\\" \")\n",
        "nombre = \" \\\"Jose\\\" \"\n",
        "print(nombre)\n",
        "carrera = \"Ingenieria \\nen \\nCcomputacion\"  # Hace enters \n",
        "carrer = \"Ingenieria \\ten \\tComputacion\" #Hace saltos de espacios \n",
        "\n",
        "print( carrera )\n",
        "print( carrer)\n",
        "print('\\u0065')\n",
        "print('\\u0444')\n",
        "print('\\u0620')\n",
        "\n",
        "print('\\U00010057')\n",
        "print('\\U0001F608')\n",
        "print('\\U0001F9A0')\n"
      ],
      "execution_count": null,
      "outputs": [
        {
          "output_type": "stream",
          "name": "stdout",
          "text": [
            " \"Jose\" \n",
            " \"Jose\" \n",
            "Ingenieria \n",
            "en \n",
            "Ccomputacion\n",
            "Ingenieria \ten \tComputacion\n",
            "e\n",
            "ф\n",
            "ؠ\n",
            "𐁗\n",
            "😈\n",
            "🦠\n"
          ]
        }
      ]
    },
    {
      "cell_type": "markdown",
      "metadata": {
        "id": "g4AWBICDyPhE"
      },
      "source": [
        "#Funcion print\n",
        "\n",
        "###Se emple para desplegar informacion en la salida estandar. Normalmente a un monitor\n",
        "\n",
        "###La salida estandar es donde se muestra la info al usuario\n",
        "\n",
        "- Formas de usar print\n",
        "\n",
        "- El argumentp por defecto de print (end)\n",
        "- format()\n",
        "- operador f\"\""
      ]
    },
    {
      "cell_type": "code",
      "metadata": {
        "id": "x2CE_T6b9I2O",
        "colab": {
          "base_uri": "https://localhost:8080/"
        },
        "outputId": "e67426f6-3218-4811-85a2-eff809e65cc4"
      },
      "source": [
        "nombre = 'Jose'\n",
        "edad = 18\n",
        "casado = False\n",
        "estatura = 1.67\n",
        "\n",
        "#1.- Con comas.-Concatena haciendo un casting(conversion a string automatico)\n",
        "#Agrega un espacio\n",
        "print(nombre,edad,casado,estatura)\n",
        "print( nombre , edad , casado , estatura ) ###No importa los espacios que se \n",
        "###pongan en el print los espacios se dan por las comas\n",
        "print('Nombre: ' + nombre + '\\n\\tEdad:' + str(edad) +  '\\n\\tEsta casado:' + str(casado) +'\\n\\tEstatura en metros' + str(estatura))\n",
        "\n",
        "\"\"\"2.- Con el simbolo + .-\n",
        "Concatenacion en crudo.\"\"\" \n",
        "print( nombre +\"  \"+ str(edad) +\"  \"+ str(casado) +\"  \"+ str(estatura))\n",
        "print( nombre +\"\"+ str(edad) +\"\"+ str(casado) +\"\"+ str(estatura))\n",
        "\n",
        "#Los espacios que se pongan entre (\"   \") ahora si separa los que pongas\n",
        "\n",
        "# 3.- Formato de salida con format()\n",
        "print('Nombre: {}\\n\\tEdad: {}\\n\\tEsta cadado: {}\\n\\tEstatura en metros:{}'.format(nombre, edad, casado, estatura))\n",
        "\n",
        "#4.- Con el operador f\" \"\n",
        "print('Con el operador f\\\" \\\"')\n",
        "print(f'Nombre: {nombre}\\n\\tEdad: {edad}\\n\\tEsta cadado: {casado}\\n\\tEstatura en metros:{estatura}')\n",
        "#Con f' ' puedes escribir en los corchetes los objetos que quieras que se impriman\n",
        "\n",
        "\n",
        "#Como manejar el argumento end\n",
        "print(f'Hola {nombre}' , end='')\n",
        "print(', como estas?' , end='')"
      ],
      "execution_count": null,
      "outputs": [
        {
          "output_type": "stream",
          "name": "stdout",
          "text": [
            "Jose 18 False 1.67\n",
            "Jose 18 False 1.67\n",
            "Nombre: Jose\n",
            "\tEdad:18\n",
            "\tEsta casado:False\n",
            "\tEstatura en metros1.67\n",
            "Jose  18  False  1.67\n",
            "Jose18False1.67\n",
            "Nombre: Jose\n",
            "\tEdad: 18\n",
            "\tEsta cadado: False\n",
            "\tEstatura en metros:1.67\n",
            "Con el operador f\" \"\n",
            "Nombre: Jose\n",
            "\tEdad: 18\n",
            "\tEsta cadado: False\n",
            "\tEstatura en metros:1.67\n",
            "Hola Jose, como estas?"
          ]
        }
      ]
    },
    {
      "cell_type": "markdown",
      "metadata": {
        "id": "SWVypHeh63wu"
      },
      "source": [
        "###Tarea\n",
        "- Con una sola funcion Por letra print, escribir su primer nombre (nombre de pila) de la siguiente forma. uNA FUNCION POR LETRA\n",
        "\n",
        "E  E  E    \n",
        "E         \n",
        "E  E       \n",
        "E               \n",
        "E  E  E   \n",
        "\n",
        "S  S  S  \n",
        "S\n",
        "S S S S \n",
        "      S\n",
        "S S S S\n",
        "\n",
        "T T T T T\n",
        "    T\n",
        "    T\n",
        "    T \n",
        "    T\n",
        "\n",
        "E  E  E    \n",
        "E         \n",
        "E  E        \n",
        "E               \n",
        "E  E  E  \n",
        "\n",
        "B B B B\n",
        "B     B\n",
        "B B B \n",
        "B     B\n",
        "B B B B\n",
        "\n",
        "   A"
      ]
    },
    {
      "cell_type": "code",
      "metadata": {
        "id": "DhYCXcQo46wo",
        "colab": {
          "base_uri": "https://localhost:8080/"
        },
        "outputId": "53b9f934-1843-4320-94a7-28354490046a"
      },
      "source": [
        "print('EEEEEE \\tSSSSSS \\tTTTTTT \\tEEEEEE \\tBBBBBB \\t  A')"
      ],
      "execution_count": null,
      "outputs": [
        {
          "output_type": "stream",
          "name": "stdout",
          "text": [
            "EEEEEE \tSSSSSS \tTTTTTT \tEEEEEE \tBBBBBB \t  A\n"
          ]
        }
      ]
    },
    {
      "cell_type": "markdown",
      "metadata": {
        "id": "HTfpaA-9BP-9"
      },
      "source": [
        "# Datos de entrada\n",
        "\n",
        "Para solicitar los datos del usuario se emplea la funcion input. La cual regresa siempre, un tipo de dato string."
      ]
    },
    {
      "cell_type": "code",
      "metadata": {
        "id": "wXf4knkYAd_8",
        "colab": {
          "base_uri": "https://localhost:8080/"
        },
        "outputId": "a62cd5f3-54c7-4b84-eea7-1cc5058ecfc4"
      },
      "source": [
        "nombre = input('Ingresa tu nombre' )\n",
        "print('Tecleaste:',nombre)\n"
      ],
      "execution_count": null,
      "outputs": [
        {
          "output_type": "stream",
          "name": "stdout",
          "text": [
            "Ingresa tu nombre Esteban\n",
            "Tecleaste:  Esteban\n"
          ]
        }
      ]
    },
    {
      "cell_type": "markdown",
      "metadata": {
        "id": "ASifHOCqB-WY"
      },
      "source": [
        "# Como capturar datos numericos?\n",
        "\n",
        "Para ello se hace una conversion entre tipos...\n",
        "casting... consiste en llamar al constructor de la clase deseada.\n",
        "\n",
        "## Ejemplo convertir el string '2' en numero\n",
        "### num = int('2')\n"
      ]
    },
    {
      "cell_type": "code",
      "metadata": {
        "id": "KQVoaI-PBtSh",
        "colab": {
          "base_uri": "https://localhost:8080/"
        },
        "outputId": "47732479-9a6b-45aa-d770-35dc82452bf5"
      },
      "source": [
        "entrada = input('Dame tu edad:')\n",
        "edad = int(entrada)\n",
        "edad += 1 #edad = edad +1\n",
        "print('Tu edad es:', edad)"
      ],
      "execution_count": null,
      "outputs": [
        {
          "output_type": "stream",
          "name": "stdout",
          "text": [
            "Dame tu edad:18\n",
            "Tu edad es: 19\n"
          ]
        }
      ]
    },
    {
      "cell_type": "code",
      "metadata": {
        "id": "pyDdl1FZCq5b",
        "colab": {
          "base_uri": "https://localhost:8080/"
        },
        "outputId": "f30e72ed-cd7c-4586-ffb0-5bc13befeab3"
      },
      "source": [
        "#lo mismo pero con menos codigo\n",
        "\n",
        "edad = int( input('Dame tu edad:') ) #int es para nunmeros enteros\n",
        "print('Tu edad es:', edad+1)"
      ],
      "execution_count": null,
      "outputs": [
        {
          "output_type": "stream",
          "name": "stdout",
          "text": [
            "Dame tu edad:18\n",
            "Tu edad es: 19\n"
          ]
        }
      ]
    },
    {
      "cell_type": "code",
      "metadata": {
        "id": "KZ9qFNZiDNf8",
        "colab": {
          "base_uri": "https://localhost:8080/"
        },
        "outputId": "4434cfd7-77fa-4500-d2e5-9d8d3148de48"
      },
      "source": [
        "estatura = float(input('Dame tu estatura: ') )   #Float es para nyumeros con decimales\n",
        "print('Tu estatura es:', estatura,'m')"
      ],
      "execution_count": null,
      "outputs": [
        {
          "output_type": "stream",
          "name": "stdout",
          "text": [
            "Dame tu estatura: 1.80\n",
            "Tu estatura es: 1.8 m\n"
          ]
        }
      ]
    },
    {
      "cell_type": "code",
      "metadata": {
        "id": "OsuJlyzcDjNK",
        "colab": {
          "base_uri": "https://localhost:8080/"
        },
        "outputId": "19721013-f347-4662-e6e6-733e11e882fb"
      },
      "source": [
        "# inputs de booleans\n",
        "\n",
        "casado = bool(int(input('Soltero (0) casado(1)')))\n",
        "print(' casado=', casado)"
      ],
      "execution_count": null,
      "outputs": [
        {
          "output_type": "stream",
          "name": "stdout",
          "text": [
            "Soltero (0) casado(1)1\n",
            " casado= True\n"
          ]
        }
      ]
    },
    {
      "cell_type": "markdown",
      "metadata": {
        "id": "7OZ4NAbnFkRH"
      },
      "source": [
        "# Tipos  de datos estructurados de python\n",
        "\n",
        "1. Listas\n",
        "2. Tupals\n",
        "3. Diccionarios\n",
        "4. Conjuntos(opcional)"
      ]
    },
    {
      "cell_type": "markdown",
      "metadata": {
        "id": "6excutmOFxOs"
      },
      "source": [
        "#Listas\n",
        "- Tipo de dato que agrupa variables o valores.\n",
        "- Se declara de dos formas\n",
        "    - Usando [ ]\n",
        "    - Usando list()\n",
        "- Puede contener tipos de datos diversos( En otros lenguajes de programacion eso no es posible de forma directa)\n",
        "- Los elementos internos se selecciona con [ ]\n",
        "- Soporta slicing\n",
        "- Son MUTABLES (Osea que se pueden modificar a lo largo del programa)\n",
        "- GENERADORES[ dar for x in range( 10)\n",
        "- Al ser una clase contiene muchos metodos utiles"
      ]
    },
    {
      "cell_type": "code",
      "metadata": {
        "id": "Dh4KOunTEqqB",
        "colab": {
          "base_uri": "https://localhost:8080/"
        },
        "outputId": "38a1048a-3b78-40fb-8daf-bbdf92a84b87"
      },
      "source": [
        "numeros = [10, 5, 2, 3, 1]\n",
        "print(numeros)\n",
        "\n",
        "numeros2 = list()\n",
        "numeros2.append(10)\n",
        "numeros2.append(5)\n",
        "numeros2.append(2)\n",
        "numeros2.append(3)\n",
        "numeros2.append(1)\n",
        "print(numeros2)\n",
        "numeros[2] = 20\n",
        "print(numeros)\n",
        "numeros[-1] = 33"
      ],
      "execution_count": null,
      "outputs": [
        {
          "output_type": "stream",
          "name": "stdout",
          "text": [
            "[10, 5, 2, 3, 1]\n",
            "[10, 5, 2, 3, 1]\n",
            "[10, 5, 20, 3, 1]\n"
          ]
        }
      ]
    },
    {
      "cell_type": "code",
      "metadata": {
        "id": "bxYovimNHiGu",
        "colab": {
          "base_uri": "https://localhost:8080/"
        },
        "outputId": "1514f290-3bc2-41cf-c32d-8edbb4fc6639"
      },
      "source": [
        "# Tipos diversos \n",
        "\n",
        "cosas = [12, 2, True, 'Jose', 1.57, ['pera', 'kiwi','uva']]\n",
        "print(cosas)\n",
        "print(cosas[1])\n",
        "print(cosas[4])\n",
        "print(cosas[5])\n",
        "print(cosas[5][1])\n",
        "print(cosas[3][1:3:])\n",
        "cosas[3] = cosas[3]. upper()\n",
        "print(cosas)"
      ],
      "execution_count": null,
      "outputs": [
        {
          "output_type": "stream",
          "name": "stdout",
          "text": [
            "[12, 2, True, 'Jose', 1.57, ['pera', 'kiwi', 'uva']]\n",
            "2\n",
            "1.57\n",
            "['pera', 'kiwi', 'uva']\n",
            "kiwi\n",
            "os\n",
            "[12, 2, True, 'JOSE', 1.57, ['pera', 'kiwi', 'uva']]\n"
          ]
        }
      ]
    },
    {
      "cell_type": "code",
      "metadata": {
        "id": "tbP_QkW5Ixtl",
        "colab": {
          "base_uri": "https://localhost:8080/"
        },
        "outputId": "726e08fe-def1-4a78-9d1b-32e836ea9c6f"
      },
      "source": [
        "numeros = [1,2,3,4,5,6,7,8,9,10,11]\n",
        "print(numeros)\n",
        "# slicing\n",
        "# 1.- 4 al 8??\n",
        "print( numeros[3:8])\n",
        "# 2: [9,10]\n",
        "print(numeros[8:10])\n",
        "print(numeros[-3:-1:])\n",
        "# 3:-imprimir la lista en orden invers [11,10,9, etcetera,1]\n",
        "print(numeros[: :-1])"
      ],
      "execution_count": null,
      "outputs": [
        {
          "output_type": "stream",
          "name": "stdout",
          "text": [
            "[1, 2, 3, 4, 5, 6, 7, 8, 9, 10, 11]\n",
            "[4, 5, 6, 7, 8]\n",
            "[9, 10]\n",
            "[9, 10]\n",
            "[11, 10, 9, 8, 7, 6, 5, 4, 3, 2, 1]\n"
          ]
        }
      ]
    },
    {
      "cell_type": "code",
      "metadata": {
        "id": "Jl6qglcVL_pj",
        "colab": {
          "base_uri": "https://localhost:8080/"
        },
        "outputId": "8d000b28-d5f6-4a0d-ea77-cee8d9b20bcf"
      },
      "source": [
        "# Crear una list con un generador \n",
        "numeros = [ x*3 for x in range(1001)]\n",
        "print(numeros)"
      ],
      "execution_count": null,
      "outputs": [
        {
          "output_type": "stream",
          "name": "stdout",
          "text": [
            "[0, 3, 6, 9, 12, 15, 18, 21, 24, 27, 30, 33, 36, 39, 42, 45, 48, 51, 54, 57, 60, 63, 66, 69, 72, 75, 78, 81, 84, 87, 90, 93, 96, 99, 102, 105, 108, 111, 114, 117, 120, 123, 126, 129, 132, 135, 138, 141, 144, 147, 150, 153, 156, 159, 162, 165, 168, 171, 174, 177, 180, 183, 186, 189, 192, 195, 198, 201, 204, 207, 210, 213, 216, 219, 222, 225, 228, 231, 234, 237, 240, 243, 246, 249, 252, 255, 258, 261, 264, 267, 270, 273, 276, 279, 282, 285, 288, 291, 294, 297, 300, 303, 306, 309, 312, 315, 318, 321, 324, 327, 330, 333, 336, 339, 342, 345, 348, 351, 354, 357, 360, 363, 366, 369, 372, 375, 378, 381, 384, 387, 390, 393, 396, 399, 402, 405, 408, 411, 414, 417, 420, 423, 426, 429, 432, 435, 438, 441, 444, 447, 450, 453, 456, 459, 462, 465, 468, 471, 474, 477, 480, 483, 486, 489, 492, 495, 498, 501, 504, 507, 510, 513, 516, 519, 522, 525, 528, 531, 534, 537, 540, 543, 546, 549, 552, 555, 558, 561, 564, 567, 570, 573, 576, 579, 582, 585, 588, 591, 594, 597, 600, 603, 606, 609, 612, 615, 618, 621, 624, 627, 630, 633, 636, 639, 642, 645, 648, 651, 654, 657, 660, 663, 666, 669, 672, 675, 678, 681, 684, 687, 690, 693, 696, 699, 702, 705, 708, 711, 714, 717, 720, 723, 726, 729, 732, 735, 738, 741, 744, 747, 750, 753, 756, 759, 762, 765, 768, 771, 774, 777, 780, 783, 786, 789, 792, 795, 798, 801, 804, 807, 810, 813, 816, 819, 822, 825, 828, 831, 834, 837, 840, 843, 846, 849, 852, 855, 858, 861, 864, 867, 870, 873, 876, 879, 882, 885, 888, 891, 894, 897, 900, 903, 906, 909, 912, 915, 918, 921, 924, 927, 930, 933, 936, 939, 942, 945, 948, 951, 954, 957, 960, 963, 966, 969, 972, 975, 978, 981, 984, 987, 990, 993, 996, 999, 1002, 1005, 1008, 1011, 1014, 1017, 1020, 1023, 1026, 1029, 1032, 1035, 1038, 1041, 1044, 1047, 1050, 1053, 1056, 1059, 1062, 1065, 1068, 1071, 1074, 1077, 1080, 1083, 1086, 1089, 1092, 1095, 1098, 1101, 1104, 1107, 1110, 1113, 1116, 1119, 1122, 1125, 1128, 1131, 1134, 1137, 1140, 1143, 1146, 1149, 1152, 1155, 1158, 1161, 1164, 1167, 1170, 1173, 1176, 1179, 1182, 1185, 1188, 1191, 1194, 1197, 1200, 1203, 1206, 1209, 1212, 1215, 1218, 1221, 1224, 1227, 1230, 1233, 1236, 1239, 1242, 1245, 1248, 1251, 1254, 1257, 1260, 1263, 1266, 1269, 1272, 1275, 1278, 1281, 1284, 1287, 1290, 1293, 1296, 1299, 1302, 1305, 1308, 1311, 1314, 1317, 1320, 1323, 1326, 1329, 1332, 1335, 1338, 1341, 1344, 1347, 1350, 1353, 1356, 1359, 1362, 1365, 1368, 1371, 1374, 1377, 1380, 1383, 1386, 1389, 1392, 1395, 1398, 1401, 1404, 1407, 1410, 1413, 1416, 1419, 1422, 1425, 1428, 1431, 1434, 1437, 1440, 1443, 1446, 1449, 1452, 1455, 1458, 1461, 1464, 1467, 1470, 1473, 1476, 1479, 1482, 1485, 1488, 1491, 1494, 1497, 1500, 1503, 1506, 1509, 1512, 1515, 1518, 1521, 1524, 1527, 1530, 1533, 1536, 1539, 1542, 1545, 1548, 1551, 1554, 1557, 1560, 1563, 1566, 1569, 1572, 1575, 1578, 1581, 1584, 1587, 1590, 1593, 1596, 1599, 1602, 1605, 1608, 1611, 1614, 1617, 1620, 1623, 1626, 1629, 1632, 1635, 1638, 1641, 1644, 1647, 1650, 1653, 1656, 1659, 1662, 1665, 1668, 1671, 1674, 1677, 1680, 1683, 1686, 1689, 1692, 1695, 1698, 1701, 1704, 1707, 1710, 1713, 1716, 1719, 1722, 1725, 1728, 1731, 1734, 1737, 1740, 1743, 1746, 1749, 1752, 1755, 1758, 1761, 1764, 1767, 1770, 1773, 1776, 1779, 1782, 1785, 1788, 1791, 1794, 1797, 1800, 1803, 1806, 1809, 1812, 1815, 1818, 1821, 1824, 1827, 1830, 1833, 1836, 1839, 1842, 1845, 1848, 1851, 1854, 1857, 1860, 1863, 1866, 1869, 1872, 1875, 1878, 1881, 1884, 1887, 1890, 1893, 1896, 1899, 1902, 1905, 1908, 1911, 1914, 1917, 1920, 1923, 1926, 1929, 1932, 1935, 1938, 1941, 1944, 1947, 1950, 1953, 1956, 1959, 1962, 1965, 1968, 1971, 1974, 1977, 1980, 1983, 1986, 1989, 1992, 1995, 1998, 2001, 2004, 2007, 2010, 2013, 2016, 2019, 2022, 2025, 2028, 2031, 2034, 2037, 2040, 2043, 2046, 2049, 2052, 2055, 2058, 2061, 2064, 2067, 2070, 2073, 2076, 2079, 2082, 2085, 2088, 2091, 2094, 2097, 2100, 2103, 2106, 2109, 2112, 2115, 2118, 2121, 2124, 2127, 2130, 2133, 2136, 2139, 2142, 2145, 2148, 2151, 2154, 2157, 2160, 2163, 2166, 2169, 2172, 2175, 2178, 2181, 2184, 2187, 2190, 2193, 2196, 2199, 2202, 2205, 2208, 2211, 2214, 2217, 2220, 2223, 2226, 2229, 2232, 2235, 2238, 2241, 2244, 2247, 2250, 2253, 2256, 2259, 2262, 2265, 2268, 2271, 2274, 2277, 2280, 2283, 2286, 2289, 2292, 2295, 2298, 2301, 2304, 2307, 2310, 2313, 2316, 2319, 2322, 2325, 2328, 2331, 2334, 2337, 2340, 2343, 2346, 2349, 2352, 2355, 2358, 2361, 2364, 2367, 2370, 2373, 2376, 2379, 2382, 2385, 2388, 2391, 2394, 2397, 2400, 2403, 2406, 2409, 2412, 2415, 2418, 2421, 2424, 2427, 2430, 2433, 2436, 2439, 2442, 2445, 2448, 2451, 2454, 2457, 2460, 2463, 2466, 2469, 2472, 2475, 2478, 2481, 2484, 2487, 2490, 2493, 2496, 2499, 2502, 2505, 2508, 2511, 2514, 2517, 2520, 2523, 2526, 2529, 2532, 2535, 2538, 2541, 2544, 2547, 2550, 2553, 2556, 2559, 2562, 2565, 2568, 2571, 2574, 2577, 2580, 2583, 2586, 2589, 2592, 2595, 2598, 2601, 2604, 2607, 2610, 2613, 2616, 2619, 2622, 2625, 2628, 2631, 2634, 2637, 2640, 2643, 2646, 2649, 2652, 2655, 2658, 2661, 2664, 2667, 2670, 2673, 2676, 2679, 2682, 2685, 2688, 2691, 2694, 2697, 2700, 2703, 2706, 2709, 2712, 2715, 2718, 2721, 2724, 2727, 2730, 2733, 2736, 2739, 2742, 2745, 2748, 2751, 2754, 2757, 2760, 2763, 2766, 2769, 2772, 2775, 2778, 2781, 2784, 2787, 2790, 2793, 2796, 2799, 2802, 2805, 2808, 2811, 2814, 2817, 2820, 2823, 2826, 2829, 2832, 2835, 2838, 2841, 2844, 2847, 2850, 2853, 2856, 2859, 2862, 2865, 2868, 2871, 2874, 2877, 2880, 2883, 2886, 2889, 2892, 2895, 2898, 2901, 2904, 2907, 2910, 2913, 2916, 2919, 2922, 2925, 2928, 2931, 2934, 2937, 2940, 2943, 2946, 2949, 2952, 2955, 2958, 2961, 2964, 2967, 2970, 2973, 2976, 2979, 2982, 2985, 2988, 2991, 2994, 2997, 3000]\n"
          ]
        }
      ]
    },
    {
      "cell_type": "markdown",
      "metadata": {
        "id": "EilwuyZtQl0p"
      },
      "source": [
        "# Funcion range()\n",
        "Tiene los mismos componentes que slicing \n",
        "inicio, stop, incremento\n",
        "\n",
        "range(1, 101,1"
      ]
    },
    {
      "cell_type": "code",
      "metadata": {
        "id": "B4ZUwm5cP7Cq",
        "colab": {
          "base_uri": "https://localhost:8080/"
        },
        "outputId": "fcf9f6e4-35aa-46d3-8eef-b5099bd03b91"
      },
      "source": [
        "numeros = [ x for x in range(50,101,5)]\n",
        "print(numeros)"
      ],
      "execution_count": null,
      "outputs": [
        {
          "output_type": "stream",
          "name": "stdout",
          "text": [
            "[50, 55, 60, 65, 70, 75, 80, 85, 90, 95, 100]\n"
          ]
        }
      ]
    },
    {
      "cell_type": "code",
      "metadata": {
        "id": "uG72nRjPRHBB",
        "colab": {
          "base_uri": "https://localhost:8080/"
        },
        "outputId": "4a1401af-0bd9-428d-c197-f450f90193d4"
      },
      "source": [
        "numeros = [ 4, 1, 15, 8, 22, 34, 50]\n",
        "print(numeros)\n",
        "numeros.append(99)\n",
        "print(numeros)\n",
        "#numeros.clear()\n",
        "numeros = []\n",
        "print(numeros)\n",
        "\n",
        "frutas = ['uvas', 'kiwi', 'manzana']\n",
        "copia = frutas\n",
        "print(frutas)\n",
        "print(copia)\n",
        "frutas.append('Naranja')\n",
        "print(frutas)\n",
        "print(copia)\n",
        "\n",
        "colores = ['rojo','azul','blanco']\n",
        "copia2 = colores.copy()\n",
        "print(colores)\n",
        "print(copia2)\n",
        "colores.append('verde')\n",
        "print(colores)\n",
        "print(copia2)\n",
        "\n",
        "print('Numero de veces que aparece el 15=',numeros.count(15))\n",
        "\n",
        "# extend\n",
        "\n",
        "nombre = ['jose', 'pedro', 'karina']\n",
        "otrosNombres = ['josue','diana','dalia']\n",
        "\n",
        "print(nombre)\n",
        "print(otrosNombres)\n",
        "nombres = nombre + otrosNombres\n",
        "print(nombres)\n",
        "print(otrosNombres)\n",
        "\n",
        "# Lo mismo con el metodo extend\n",
        "otrosNombres.extend(['Jesus','maria','jose'])\n",
        "print(otrosNombres)\n",
        "print('Jesus esta en la posicion:', otrosNombres.index('Jesus'))\n",
        "otrosNombres.insert(4, 'Espiritu santo')\n",
        "print(otrosNombres)\n",
        "\n",
        "# pop\n",
        "resultado = otrosNombres\n",
        "print(otrosNombres)\n",
        "print(resultado)"
      ],
      "execution_count": null,
      "outputs": [
        {
          "output_type": "stream",
          "name": "stdout",
          "text": [
            "[4, 1, 15, 8, 22, 34, 50]\n",
            "[4, 1, 15, 8, 22, 34, 50, 99]\n",
            "[]\n",
            "['uvas', 'kiwi', 'manzana']\n",
            "['uvas', 'kiwi', 'manzana']\n",
            "['uvas', 'kiwi', 'manzana', 'Naranja']\n",
            "['uvas', 'kiwi', 'manzana', 'Naranja']\n",
            "['rojo', 'azul', 'blanco']\n",
            "['rojo', 'azul', 'blanco']\n",
            "['rojo', 'azul', 'blanco', 'verde']\n",
            "['rojo', 'azul', 'blanco']\n",
            "Numero de veces que aparece el 15= 0\n",
            "['jose', 'pedro', 'karina']\n",
            "['josue', 'diana', 'dalia']\n",
            "['jose', 'pedro', 'karina', 'josue', 'diana', 'dalia']\n",
            "['josue', 'diana', 'dalia']\n",
            "['josue', 'diana', 'dalia', 'Jesus', 'maria', 'jose']\n",
            "Jesus esta en la posicion: 3\n",
            "['josue', 'diana', 'dalia', 'Jesus', 'Espiritu santo', 'maria', 'jose']\n",
            "['josue', 'diana', 'dalia', 'Jesus', 'Espiritu santo', 'maria', 'jose']\n",
            "['josue', 'diana', 'dalia', 'Jesus', 'Espiritu santo', 'maria', 'jose']\n"
          ]
        }
      ]
    },
    {
      "cell_type": "markdown",
      "metadata": {
        "id": "1_vQjyfiwI00"
      },
      "source": [
        "# Tuplas\n",
        "\n",
        "### Caracteristicas\n",
        "- Datos agrupados\n",
        "- Se declara usando:\n",
        "  - ( ) \n",
        "  - tuple()\n",
        "-Estructura secuencial, indexada a partir de 0.\n",
        "- Pueden tener de 0 a n elementos\n",
        "- No son mutables (No se puede: eliminar y/o cambiar\n",
        "- Son buenas para almacenar informacion de consulta.\n",
        "-Pueden almacenar info de diferentes tipos de datos \n",
        "- Pueden estar anidadas.\n",
        "- Tienen metodos utiles"
      ]
    },
    {
      "cell_type": "code",
      "metadata": {
        "id": "NuK3I5zjSjYn",
        "colab": {
          "base_uri": "https://localhost:8080/"
        },
        "outputId": "d2dc4944-34d5-45b5-acb8-0bb1ee58b05c"
      },
      "source": [
        "info = (\"Juan23\", \"dios1234\", \"123.232.1.12\")\n",
        "print(info)\n",
        "print(info[ 1 ])\n",
        "#info[ 1 ] = :patito23\"\n",
        "\n",
        "numeros = (0, 1, 2, 3, 4, 5, 6, 7, 8, 9, 10, 11, 12, 13, 14, 15)\n",
        "print( numeros )\n",
        "print(numeros[5 : 11])\n",
        "\n",
        "cosas = (info, numeros)\n",
        "print( cosas )\n",
        "print( cosas [1][5:11:1] )\n",
        "print( cosas [0][2][4:7])\n",
        "print( cosas [0][-7:11])"
      ],
      "execution_count": null,
      "outputs": [
        {
          "output_type": "stream",
          "name": "stdout",
          "text": [
            "('Juan23', 'dios1234', '123.232.1.12')\n",
            "dios1234\n",
            "(0, 1, 2, 3, 4, 5, 6, 7, 8, 9, 10, 11, 12, 13, 14, 15)\n",
            "(5, 6, 7, 8, 9, 10)\n",
            "(('Juan23', 'dios1234', '123.232.1.12'), (0, 1, 2, 3, 4, 5, 6, 7, 8, 9, 10, 11, 12, 13, 14, 15))\n",
            "(5, 6, 7, 8, 9, 10)\n",
            "232\n",
            "('Juan23', 'dios1234', '123.232.1.12')\n"
          ]
        }
      ]
    },
    {
      "cell_type": "markdown",
      "metadata": {
        "id": "aDwkI1GR3eF7"
      },
      "source": [
        "# Metodos de Tuplas\n",
        "Son los mismos de las listas pero los que no involucren mutabilidad"
      ]
    },
    {
      "cell_type": "code",
      "metadata": {
        "id": "OFigHHPfxa-t",
        "colab": {
          "base_uri": "https://localhost:8080/"
        },
        "outputId": "89b9103b-2c9c-4863-d7b1-1e2eae7eda77"
      },
      "source": [
        "dir(tuple)"
      ],
      "execution_count": null,
      "outputs": [
        {
          "output_type": "execute_result",
          "data": {
            "text/plain": [
              "['__add__',\n",
              " '__class__',\n",
              " '__contains__',\n",
              " '__delattr__',\n",
              " '__dir__',\n",
              " '__doc__',\n",
              " '__eq__',\n",
              " '__format__',\n",
              " '__ge__',\n",
              " '__getattribute__',\n",
              " '__getitem__',\n",
              " '__getnewargs__',\n",
              " '__gt__',\n",
              " '__hash__',\n",
              " '__init__',\n",
              " '__init_subclass__',\n",
              " '__iter__',\n",
              " '__le__',\n",
              " '__len__',\n",
              " '__lt__',\n",
              " '__mul__',\n",
              " '__ne__',\n",
              " '__new__',\n",
              " '__reduce__',\n",
              " '__reduce_ex__',\n",
              " '__repr__',\n",
              " '__rmul__',\n",
              " '__setattr__',\n",
              " '__sizeof__',\n",
              " '__str__',\n",
              " '__subclasshook__',\n",
              " 'count',\n",
              " 'index']"
            ]
          },
          "metadata": {},
          "execution_count": 15
        }
      ]
    },
    {
      "cell_type": "markdown",
      "metadata": {
        "id": "wjLLt0l94AHK"
      },
      "source": [
        "# Diccionarios \n",
        "### Caracteristicas de los diccionarios\n",
        "\n",
        "- Agrupan datos pero de forma no lineal.\n",
        "- Se declaran con:\n",
        "  - {}\n",
        "  - dict()\n",
        "-Formado por pares del tipo llave: valor, donde\n",
        "  - Llave es de tipo string(SIEMPRE)\n",
        "  - Valor puede ser de cualquier tipo de dator, incluyendo las diccionarios.\n",
        "- Se seleccionan con la llave de la forma[\"id_llave\"]\n",
        "- son mutables\n",
        "- Son equivalentes al tipo de dato JSON del lenguaje JavaScript (JS)\n"
      ]
    },
    {
      "cell_type": "code",
      "metadata": {
        "id": "GOvQmddW3z0C",
        "colab": {
          "base_uri": "https://localhost:8080/"
        },
        "outputId": "e03ff3c5-ad9a-45f6-a522-7dfb62c6d703"
      },
      "source": [
        "alumno = {\"nombre\" : \"Jose\" }\n",
        "print(alumno)\n",
        "print(alumno[\"nombre\"])\n",
        "alumno = { \"nombre\" : \"Jose\", \"nc\": \"2129212912\", \"edad\":18}\n",
        "print(alumno[\"edad\"])\n",
        "print(\"Edad del alumno = \",alumno[\"edad\"])\n",
        "print(alumno[\"nombre\"].upper())\n",
        "\n",
        "print(\"Alumno2:\")\n",
        "alumno2 = dict() # { }\n",
        "alumno2[\"nombre\"] = \"jose\"\n",
        "print(alumno2)\n",
        "alumno2[\"nc\"] = \"2129212912\"\n",
        "alumno2[\"edad\"] = 18\n",
        "print(alumno2)\n",
        "alumno2[\"edad\"] = alumno2[\"edad\"] + 1\n",
        "print(alumno2)"
      ],
      "execution_count": null,
      "outputs": [
        {
          "output_type": "stream",
          "name": "stdout",
          "text": [
            "{'nombre': 'Jose'}\n",
            "Jose\n",
            "18\n",
            "Edad del alumno =  18\n",
            "JOSE\n",
            "Alumno2:\n",
            "{'nombre': 'jose'}\n",
            "{'nombre': 'jose', 'nc': '2129212912', 'edad': 18}\n",
            "{'nombre': 'jose', 'nc': '2129212912', 'edad': 19}\n"
          ]
        }
      ]
    },
    {
      "cell_type": "code",
      "metadata": {
        "id": "7CyFNBxy5H0j",
        "colab": {
          "base_uri": "https://localhost:8080/"
        },
        "outputId": "4d9b7007-7f11-4620-92a4-18e65c68457c"
      },
      "source": [
        "cliente = {\"id\" : \"CT2121\",\n",
        "           \"nombre\" : \"Jose Pedroza Rosales\",\n",
        "           \"telefono\": \"Casa=55325241 Cel=0239424\" }\n",
        "\n",
        "print(cliente)\n",
        "\n",
        "cliente = {\"id\" : \"CT2121\",\n",
        "           \"nombre\" : {\n",
        "               \"nombres\":\"Jose\",\n",
        "               \"paterno\": \"Pedroza\",\n",
        "               \"materno\": \"Rosales\"\n",
        "           },\n",
        "           \"telefonos\": {\n",
        "               \"casa\" :\"55325241\",\n",
        "               \" Cel\" :\"0239424\",\n",
        "               \"trabajo\": \"2834274\" \n",
        "              } , \n",
        "           \"productos\":{\n",
        "                        \"ahorro\":{ \"numero_cuenta\": \"7234\", \"ahorro\":2500.5},\n",
        "                        \"tarjetas\":[\n",
        "                                    {\"tipo\":\"debito\", \"saldo\":10000.5},\n",
        "                                    {\"tipo\":\"credito preferente\",\"limite\":1382375},\n",
        "                                    {\"tipo\":\"lite\", \"limite\":15000.2},                         \n",
        "                        ]          \n",
        "                },\n",
        "                \"direccion\":{\n",
        "                    \"calle\":\"Avenida Centra\",\n",
        "                    \"numero\":\"293471\",\n",
        "                    \"colonia\":\"ipulsora\",\n",
        "                    \"delegacion\":\"neza\",\n",
        "                    \"estado\":{\n",
        "                        \"clave\":15,\n",
        "                        \"nombre_corto\":\"EdoMex\",\n",
        "                        \"nombre\":\"Estado de Mexico\"\n",
        "\n",
        "                    }\n",
        "                }\n",
        "}\n",
        "\n",
        "\n",
        "print(cliente)\n",
        "print(cliente[\"productos\"][\"ahorro\"][\"ahorro\"])\n",
        "print(cliente[\"productos\"])"
      ],
      "execution_count": null,
      "outputs": [
        {
          "output_type": "stream",
          "name": "stdout",
          "text": [
            "{'id': 'CT2121', 'nombre': 'Jose Pedroza Rosales', 'telefono': 'Casa=55325241 Cel=0239424'}\n",
            "{'id': 'CT2121', 'nombre': {'nombres': 'Jose', 'paterno': 'Pedroza', 'materno': 'Rosales'}, 'telefonos': {'casa': '55325241', ' Cel': '0239424', 'trabajo': '2834274'}, 'productos': {'ahorro': {'numero_cuenta': '7234', 'ahorro': 2500.5}, 'tarjetas': [{'tipo': 'debito', 'saldo': 10000.5}, {'tipo': 'credito preferente', 'limite': 1382375}, {'tipo': 'lite', 'limite': 15000.2}]}, 'direccion': {'calle': 'Avenida Centra', 'numero': '293471', 'colonia': 'ipulsora', 'delegacion': 'neza', 'estado': {'clave': 15, 'nombre_corto': 'EdoMex', 'nombre': 'Estado de Mexico'}}}\n",
            "2500.5\n",
            "{'ahorro': {'numero_cuenta': '7234', 'ahorro': 2500.5}, 'tarjetas': [{'tipo': 'debito', 'saldo': 10000.5}, {'tipo': 'credito preferente', 'limite': 1382375}, {'tipo': 'lite', 'limite': 15000.2}]}\n"
          ]
        }
      ]
    },
    {
      "cell_type": "code",
      "metadata": {
        "id": "CBdYcu16-KTb",
        "colab": {
          "base_uri": "https://localhost:8080/"
        },
        "outputId": "684e2345-502a-48d8-9faf-fc52874d464b"
      },
      "source": [
        "pelicula = {\"pelicula\" : \"Avengers\",\n",
        "            \"Genero\" : \"Accion\",\n",
        "            \"Personaje\" : \"ironman\"}\n",
        "print(pelicula)\n",
        "\n",
        "pelicula = {\"pelicula\" : \"Avengers\",\n",
        "            \"Generos\": {\n",
        "                \"Genero1\" : \"Superheroes\",\n",
        "                \"Genero2\" : \"Accion\",            \n",
        "            },\n",
        "            \"Personajes\" :{\n",
        "                \"Ironman\" : \"Robert Downey JR\",\n",
        "                \"Spiderman\" : \"Tom Holand\",  \n",
        "                \"Capitan America\" : \"Chris Evans\",\n",
        "                \"Black Widow\" : \"Viuda Negra\",\n",
        "                \"Thor\" : \"Chris Hemsworth\",\n",
        "                \"Starlord\" : \"Chris Prat\" \n",
        "            },\n",
        "            \"Revenue\" : {\n",
        "                \"USA\" : \"$781,331,736\",\n",
        "                \"Mexico\" : \"$73,955,421\",\n",
        "                \"España\" : \"$30,332,980\",\n",
        "            }\n",
        "\n",
        "                  }\n",
        "print(pelicula[\"Personajes\"][\"Ironman\"])\n",
        "\n",
        "\n",
        "\n"
      ],
      "execution_count": null,
      "outputs": [
        {
          "output_type": "stream",
          "name": "stdout",
          "text": [
            "{'pelicula': 'Avengers', 'Genero': 'Accion', 'Personaje': 'ironman'}\n",
            "Robert Downey JR\n"
          ]
        }
      ]
    },
    {
      "cell_type": "markdown",
      "metadata": {
        "id": "HfgE8PX0Mve3"
      },
      "source": [
        "# Estructura de control de programacion\n",
        "Se puede crear cualquier tipo de algoritmo empeado solamente 3 estructuras de control:\n",
        "\n",
        "1. Secuencia:\n",
        " - La representacion de la memoria de programa (Arquitectura Vonn Newman)\n",
        "2. Seleccion\n",
        " - Es la estructura de control que decide si un bloque de programa se ejecuta o no se ejecuta. Tambien permite seleccionar ejecutar un bloque entre un conjunto de opciones.\n",
        "  En resumen tenemos : Seleccion simple, seleccion con bifurcacion y seleccion multiple\n",
        "3. Repeticion:\n",
        " - Este tipo de estructura nos permite automatizar la ejecucion repetitiva de codigo mientras ciertas condiciones si cumplan, tenemos 3 variantes de esta estructura en todos los lenguajes de programacion:\n",
        "      - Desde.... hasta (estructura for)\n",
        "      -Haz mientras (estrucutra While)\n",
        "      - Haz y luego validaz mientras (estructura nDo-While)"
      ]
    },
    {
      "cell_type": "markdown",
      "metadata": {
        "id": "WDCddFn_SNb9"
      },
      "source": [
        "# Seleccion simple\n",
        " - Documentar, o poner notas\n",
        "\n",
        "La estructuraa if\n",
        "\n",
        "\n",
        "\n",
        "```\n",
        "if <Condicion> :\n",
        "  <Cuerpo del IF>\n",
        "```\n",
        "**NOTA** Para establecer el cuerpo de una estrucutra de control en Python se utilizan tabuladores a la izq.\n",
        "\n",
        "En otros lenguajes de programacion como java, c y c++... se usan las llaves { }\n",
        "\n",
        "\n",
        "\n",
        "```\n",
        "int edad =0\n",
        "printif(\"Dae tu edad\");\n",
        "scanf(\"%i\", &edad );\n",
        "if(edad >=18){\n",
        "  printf(\"ered mayor de edad\")\n",
        "print(\"fin del programa\")\n",
        "```\n",
        "\n",
        "\n"
      ]
    },
    {
      "cell_type": "code",
      "metadata": {
        "id": "ddmrG6URKPyA",
        "colab": {
          "base_uri": "https://localhost:8080/"
        },
        "outputId": "a7f92dd0-bd82-46bc-c8f2-d52ff23980fe"
      },
      "source": [
        "edad = int(input(\"Dame tu edad:\"))\n",
        "print(f\"Tecleaste {edad} años\")\n",
        "if edad >=18 :\n",
        "  print(\"Eres mayor de edad\")\n",
        "  print(\"Algo\")\n",
        "  print(\"Otra cosa\")\n",
        "print(\"otra cosa\")\n",
        "print(\"Fin del programa\")"
      ],
      "execution_count": null,
      "outputs": [
        {
          "output_type": "stream",
          "name": "stdout",
          "text": [
            "Dame tu edad:2\n",
            "Tecleaste 2 años\n",
            "otra cosa\n",
            "Fin del programa\n"
          ]
        }
      ]
    },
    {
      "cell_type": "code",
      "metadata": {
        "id": "ekjR75QJTPiX",
        "colab": {
          "base_uri": "https://localhost:8080/"
        },
        "outputId": "4e17b58e-a58e-42e1-cc45-675f572e4901"
      },
      "source": [
        "cal = float(input(\"Dame tu calificacion\"))\n",
        "if cal >=8 :\n",
        "  print(\"Aprobado\")\n",
        "print(\"final\")"
      ],
      "execution_count": null,
      "outputs": [
        {
          "output_type": "stream",
          "name": "stdout",
          "text": [
            "Dame tu calificacion8\n",
            "Aprobado\n",
            "final\n"
          ]
        }
      ]
    },
    {
      "cell_type": "code",
      "metadata": {
        "id": "XrogDgaHXHgw",
        "colab": {
          "base_uri": "https://localhost:8080/"
        },
        "outputId": "d3115dd8-6bbe-4c71-b1c8-b28d7054da34"
      },
      "source": [
        "SUE = float(input(\"Escriba su sueldo \"))\n",
        "AUM = 0\n",
        "MSUE = 0\n",
        "\n",
        "if SUE <1000 :\n",
        "  AUM = SUE*0.15\n",
        "  MSUE = SUE + AUM\n",
        "  print(MSUE)\n",
        "print(\"final\")"
      ],
      "execution_count": null,
      "outputs": [
        {
          "output_type": "stream",
          "name": "stdout",
          "text": [
            "Escriba su sueldo 875.50\n",
            "1006.825\n",
            "final\n"
          ]
        }
      ]
    },
    {
      "cell_type": "markdown",
      "metadata": {
        "id": "l49JneMuGpAg"
      },
      "source": [
        "#Estructura de seleccion con bifurcacion (if-else)\n",
        "\n",
        "Esta estructura, selecciona una de dos opciones de ejecucion, se ejecuta un bloque si la condicion cumple o se ejecuta otro bloque si la condicion no se cumple(else)\n",
        "\n",
        "\n",
        "\n",
        "```\n",
        "if <condicion> :\n",
        "   <bloque de ejecucion>\n",
        "else:\n",
        "  <bloque de ejecucion alterno\n",
        "```\n",
        "\n"
      ]
    },
    {
      "cell_type": "code",
      "metadata": {
        "id": "Kk-1P0tcYanm",
        "outputId": "6a09b0d1-0793-40a0-ca81-8b74ed8d28a6",
        "colab": {
          "base_uri": "https://localhost:8080/"
        }
      },
      "source": [
        "edad = int(input(\"Dame tu edad \"))\n",
        "print(f\"tecleaste {edad} años\")\n",
        "if edad >=18:\n",
        "    print(\"eres mayor de edad, ten tu cheve\")\n",
        "else:\n",
        "    print(\"Eres menor de edad, ten tu boing\")\n",
        "print(\"fin\")"
      ],
      "execution_count": 8,
      "outputs": [
        {
          "output_type": "stream",
          "name": "stdout",
          "text": [
            "Dame tu edad 33\n",
            "tecleaste 33 años\n",
            "eres mayor de edad, ten tu cheve\n",
            "fin\n"
          ]
        }
      ]
    },
    {
      "cell_type": "code",
      "metadata": {
        "id": "q4W4SbJ8IK_Y",
        "outputId": "dbf7e459-3c00-4810-9c04-eea368b5f29c",
        "colab": {
          "base_uri": "https://localhost:8080/"
        }
      },
      "source": [
        "edad = int(input(\"Dame tu edad: \"))\n",
        "dinero = float(input(\"Cuanto dinero tienes: \"))\n",
        "print(f\"tecleaste {edad} años\")\n",
        "print(f\"tecleaste {dinero} dinero\")\n",
        "if edad >=18:\n",
        "    if dinero >=36:\n",
        "        print(\"ten tu cheve\")\n",
        "    else:\n",
        "        print(\"No tienes dinero suficiente\")\n",
        "else: \n",
        "    if dinero >=36:\n",
        "            print(\"Tienes dinero suficiente pero no tienes la edad suficiente\")\n",
        "    else:\n",
        "            print(\"No tienes la edad ni el dinero suficiente\")"
      ],
      "execution_count": 34,
      "outputs": [
        {
          "output_type": "stream",
          "name": "stdout",
          "text": [
            "Dame tu edad: 6\n",
            "Cuanto dinero tienes: 124\n",
            "tecleaste 6 años\n",
            "tecleaste 124.0 dinero\n",
            "Tienes dinero suficiente pero no tienes la edad suficiente\n"
          ]
        }
      ]
    },
    {
      "cell_type": "code",
      "metadata": {
        "id": "0Rx3N3EQJ0zz",
        "outputId": "00006447-d648-46e9-b699-fcabe2ee6f2b",
        "colab": {
          "base_uri": "https://localhost:8080/"
        }
      },
      "source": [
        "edad = int(input(\"Dame tu edad: \"))\n",
        "dinero = float(input(\"Cuanto dinero tienes: \"))\n",
        "print(f\"tecleaste {edad} años\")\n",
        "print(f\"tecleaste {dinero} dinero\")\n",
        "if edad >=18:\n",
        "    if dinero >=36:\n",
        "        print(\"ten tu cheve\")\n",
        "    else:\n",
        "        print(\"No tienes dinero suficiente\")\n",
        "elif dinero >=36:\n",
        "            print(\"Tienes dinero suficiente pero no tienes la edad suficiente\")\n",
        "else:\n",
        "            print(\"No tienes la edad ni el dinero suficiente\")"
      ],
      "execution_count": 38,
      "outputs": [
        {
          "output_type": "stream",
          "name": "stdout",
          "text": [
            "Dame tu edad: 5\n",
            "Cuanto dinero tienes: 123\n",
            "Tienes dinero suficiente pero no tienes la edad suficiente\n"
          ]
        }
      ]
    },
    {
      "cell_type": "code",
      "metadata": {
        "id": "DJqdTMHhNQXE",
        "outputId": "bd0e52c9-0eda-4062-b566-8d2ab2bf9696",
        "colab": {
          "base_uri": "https://localhost:8080/"
        }
      },
      "source": [
        "cal = float(input(\"Dame tu calificacion \"))\n",
        "if cal >=8:\n",
        "    print(\"Aprovaste\")\n",
        "else:\n",
        "    print(\"Reprobado\")"
      ],
      "execution_count": 41,
      "outputs": [
        {
          "output_type": "stream",
          "name": "stdout",
          "text": [
            "Dame tu calificacion 7.999999\n",
            "Reprobado\n"
          ]
        }
      ]
    },
    {
      "cell_type": "code",
      "metadata": {
        "id": "HwazydEtO_Ew",
        "outputId": "7d5acc76-8ab2-4e63-9073-6c161e605b3d",
        "colab": {
          "base_uri": "https://localhost:8080/"
        }
      },
      "source": [
        "SUE = float(input(\"Escribe el sueldo: \"))\n",
        "AUM = 0\n",
        "NSUE = 0\n",
        "\n",
        "if SUE <1000 :\n",
        "    AUM = SUE* 0.15\n",
        "    NSUE = SUE + AUM\n",
        "    print(NSUE)\n",
        "else:\n",
        "    AUM = SUE * 0.12\n",
        "    NSUE = SUE + AUM\n",
        "    print(NSUE)"
      ],
      "execution_count": 46,
      "outputs": [
        {
          "output_type": "stream",
          "name": "stdout",
          "text": [
            "Escribe el sueldo: 1000\n",
            "1120.0\n"
          ]
        }
      ]
    },
    {
      "cell_type": "markdown",
      "metadata": {
        "id": "d33ABFGzSL7R"
      },
      "source": [
        "#EJERCICIO if-else\n",
        "\n",
        "Hacer un programa que solicite el dia de la semana en un valor numerico entero del 1 al 7 (avisarle al usuario si proporciono un valor fuera del rango).\n",
        "\n",
        "Posteriormente imprimirta el dia de la semana correspondiente al numero capturado\n",
        "\n",
        "1.LUNES\n",
        "2.MARTES\n",
        "...\n",
        "7.DOMINGO"
      ]
    },
    {
      "cell_type": "code",
      "metadata": {
        "id": "gKlSmjWrQRhS",
        "outputId": "c0db8375-912f-40a3-faa7-7db0bb9373ec",
        "colab": {
          "base_uri": "https://localhost:8080/"
        }
      },
      "source": [
        "dia = float(input(\"Dime el dia de la semana \"))\n",
        "\n",
        "if dia >=1 and dia <=7:\n",
        "    if dia ==1:\n",
        "        print(\"Hoy es Lunes\")\n",
        "    if dia ==2:\n",
        "        print(\"martes\")\n",
        "    if dia ==3: \n",
        "        print(\"Miercoles\")\n",
        "    \n"
      ],
      "execution_count": 127,
      "outputs": [
        {
          "output_type": "stream",
          "name": "stdout",
          "text": [
            "Dime el dia de la semana 3\n",
            "Miercoles\n"
          ]
        }
      ]
    },
    {
      "cell_type": "code",
      "metadata": {
        "id": "seReH3XYS9VI",
        "outputId": "65100bd5-44de-4b94-a6a3-f93d95ed307f",
        "colab": {
          "base_uri": "https://localhost:8080/"
        }
      },
      "source": [
        "dia = int(input(\"ingresa un numero entre el uno y 7:\"))\n",
        "print(f\"Capturaste el numero {dia}\")\n",
        "\n",
        "if dia >=1 and dia <=7:\n",
        "    if dia ==1:\n",
        "        print(\"lunes\")\n",
        "    else:\n",
        "      if dia == 2:\n",
        "          print(\"Martes\")\n",
        "      else:\n",
        "         if dia ==3:\n",
        "                print(\"Miercoles\")\n",
        "         else:\n",
        "             if dia ==4:\n",
        "                 print(\"Jueves\")\n",
        "             else:\n",
        "                 if dia ==5:\n",
        "                    print(\"Viernes\")\n",
        "                 else:\n",
        "                    if dia ==6:\n",
        "                        print(\"Sabado\")\n",
        "                    else:\n",
        "                         if dia ==7:\n",
        "                            print(\"Domingo\")\n",
        "else:\n",
        "    print(\"ese numero no esta dentro del rango solicitado\")"
      ],
      "execution_count": 109,
      "outputs": [
        {
          "output_type": "stream",
          "name": "stdout",
          "text": [
            "ingresa un numero entre el uno y 7:1\n",
            "Capturaste el numero 1\n",
            "lunes\n"
          ]
        }
      ]
    },
    {
      "cell_type": "markdown",
      "metadata": {
        "id": "yIsgzmWpa31n"
      },
      "source": [
        "# Tarea\n",
        "\n",
        "https://pastebin.com/yX1cYmQf"
      ]
    },
    {
      "cell_type": "markdown",
      "metadata": {
        "id": "SOJIdVhwa9z9"
      },
      "source": [
        "# Seleccion multiple\n",
        "En python no existe la estructura de seleccion switch, en su lugar se emplea la palabra reservada :\n",
        "\n",
        "## elif<"
      ]
    },
    {
      "cell_type": "code",
      "metadata": {
        "id": "-W55qqLSXGG2",
        "outputId": "62c9dba5-6a8f-478a-f92e-a08d515055de",
        "colab": {
          "base_uri": "https://localhost:8080/"
        }
      },
      "source": [
        "dia=int(input(\"Dame el día de la semana del 1-7: \"))\n",
        "if dia is 1:\n",
        "    print(\"LUNES\")\n",
        "elif dia is 2:\n",
        "    print(\"MARTES\")\n",
        "elif dia is 3:\n",
        "    print(\"MIERCOLES\")\n",
        "elif dia is 4:\n",
        "    print(\"JUEVES\")\n",
        "elif dia is 5:\n",
        "    print(\"VIERNES\")\n",
        "elif dia is 6:\n",
        "    print(\"SÁBADO\")\n",
        "elif dia is 7:\n",
        "    print(\"DOMINGO\")\n",
        "else:\n",
        "    print(\"Debe ser un numero entre el 1 y el 7\")"
      ],
      "execution_count": 128,
      "outputs": [
        {
          "output_type": "stream",
          "name": "stdout",
          "text": [
            "Dame el día de la semana del 1-7: 2\n",
            "MARTES\n"
          ]
        }
      ]
    },
    {
      "cell_type": "code",
      "metadata": {
        "id": "RGJBjfrKczlI",
        "outputId": "93b32e76-21d5-4e01-dbfe-ef1635dffcab",
        "colab": {
          "base_uri": "https://localhost:8080/"
        }
      },
      "source": [
        "# ejemplo 2.7\n",
        "NUM = int(input(\"dame un numero entre el 1 y 3: \"))\n",
        "V = float(input(\"Dame un valor float: \"))\n",
        "Val = 0\n",
        "if NUM ==1:\n",
        "    VAL = 100*V\n",
        "elif NUM ==2:\n",
        "    VAL = 100 ** V\n",
        "elif NUM ==3:\n",
        "    VAL = 100/V \n",
        "else:\n",
        "    VAL = 0\n",
        "print(VAL)"
      ],
      "execution_count": 134,
      "outputs": [
        {
          "output_type": "stream",
          "name": "stdout",
          "text": [
            "dame un numero entre el 1 y 3: 1\n",
            "Dame un valor float: 34.2\n",
            "3420.0000000000005\n"
          ]
        }
      ]
    },
    {
      "cell_type": "code",
      "metadata": {
        "id": "H27eJFHydd3n"
      },
      "source": [
        "1"
      ],
      "execution_count": null,
      "outputs": []
    }
  ]
}