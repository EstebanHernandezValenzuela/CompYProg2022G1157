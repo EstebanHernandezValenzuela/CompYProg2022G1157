{
  "nbformat": 4,
  "nbformat_minor": 0,
  "metadata": {
    "colab": {
      "name": "FundamentosCyP1157.ipynb",
      "provenance": [],
      "collapsed_sections": [],
      "authorship_tag": "ABX9TyNenuYIrCdaN/pO10ZpxyKG",
      "include_colab_link": true
    },
    "kernelspec": {
      "name": "python3",
      "display_name": "Python 3"
    },
    "language_info": {
      "name": "python"
    }
  },
  "cells": [
    {
      "cell_type": "markdown",
      "metadata": {
        "id": "view-in-github",
        "colab_type": "text"
      },
      "source": [
        "<a href=\"https://colab.research.google.com/github/EstebanHernandezValenzuela/CompYProg2022G1157/blob/main/Clase/FundamentosCyP1157.ipynb\" target=\"_parent\"><img src=\"https://colab.research.google.com/assets/colab-badge.svg\" alt=\"Open In Colab\"/></a>"
      ]
    },
    {
      "cell_type": "code",
      "metadata": {
        "colab": {
          "base_uri": "https://localhost:8080/"
        },
        "id": "FnBzTBx6XU4N",
        "outputId": "3528055b-4425-406f-b3c1-6e29eda6c590"
      },
      "source": [
        "nombre = 'José'  #Tipo de dato String (cadena de caracteres)\n",
        "print(nombre)\n"
      ],
      "execution_count": null,
      "outputs": [
        {
          "output_type": "stream",
          "name": "stdout",
          "text": [
            "José\n"
          ]
        }
      ]
    },
    {
      "cell_type": "markdown",
      "metadata": {
        "id": "IZE4Tse2XvOj"
      },
      "source": [
        "#Tipos de datos en python\n",
        "\n",
        "- str  --> String cadema de caractéres.\n",
        "- int  --> Números enteros\n",
        "- float--> Numeros con notación de punto flotante.\n",
        "- complex--> Numeros complejos\n",
        "- bool--> Boleano (True or False) \n",
        "- byte--> 8 bits\n",
        "\n",
        "### Tipo de datos estructurados (compuestos)\n",
        "\n",
        "\n",
        "- list--> Listas\n",
        "- tuple--> Listas mutables\n",
        "- dict--> Diccionarios\n",
        "- set y frozenset--> Conjuntos \n"
      ]
    },
    {
      "cell_type": "code",
      "metadata": {
        "colab": {
          "base_uri": "https://localhost:8080/"
        },
        "id": "T6mWP6btaX9p",
        "outputId": "3a13aa72-2e41-49e1-b52b-bed7b11d342f"
      },
      "source": [
        "import sys\n",
        "edad = 19\n",
        "\n",
        "print('Tu edad es:',edad) #Al final de un línea de cóigo\n",
        "# Este en un comentario de línea simple \n",
        "'''\n",
        "Comentario de multiple lineas\n",
        "En lenguaje C, C++ y Java el comentatio de multiple línea es un\n",
        " /*  .....  *\\\n",
        "\n",
        " En lenguaje C, C++ y Java el comentario de una sola línea es con:\n",
        " //\n",
        "\n",
        " Aqui puedes explicar en prosa el segmento de un codigo para futura reco\n",
        " '''\n",
        " #Tipos de dato numerico int y float\n",
        "\n",
        "sys.getsizeof(edad)\n",
        "#La biblioteca sys representa a la computadora actual\n",
        "\n",
        "edad = edad + 1\n",
        "print( edad )\n",
        "\n",
        "estructura = 1.56\n",
        "print( estructura )\n",
        "print( sys.getsizeof(estructura) )\n",
        "estructura=estructura + 0.1\n",
        "print( estructura,)\n",
        "print(round(estructura,2))\n",
        "\n",
        "edad += 1  # edad = edad +1\n",
        "print( edad )\n",
        "print('Tu edad es:',edad)\n",
        "\n",
        "edad -= 1  # edad = edad -1\n",
        "print( edad )\n",
        "print('Tu edad es:',edad)\n",
        "\n",
        "edad /= 2  # edad = edad / 2\n",
        "print( edad )\n",
        "print('Tu edad es:',edad)\n",
        "\n",
        "edad = 21 \n",
        "'''volver a calcular la mitad de la edad pero \n",
        "solo dejar la parte entera (sin decimales)'''\n",
        "edad = edad // 2\n",
        "print('La mitad de tu edad es :',edad)\n",
        "\n",
        "'''En la mayoría de los lenguajes no permite operaciones\n",
        "entre diferentes tipos de datos, en python no es el caso'''\n",
        "\n",
        "numero = edad / 2.0\n",
        "print( numero )\n",
        "\n",
        "numero *= 3   #\n",
        "print( numero )\n",
        "\n",
        "numero = 5.0\n",
        "numero **= 2  # se eleva el numero con **\n",
        "print( numero )\n"
      ],
      "execution_count": null,
      "outputs": [
        {
          "output_type": "stream",
          "name": "stdout",
          "text": [
            "Tu edad es: 19\n",
            "20\n",
            "1.56\n",
            "24\n",
            "1.6600000000000001\n",
            "1.66\n",
            "21\n",
            "Tu edad es: 21\n",
            "20\n",
            "Tu edad es: 20\n",
            "10.0\n",
            "Tu edad es: 10.0\n",
            "La mitad de tu edad es : 10\n",
            "5.0\n",
            "15.0\n",
            "25.0\n"
          ]
        }
      ]
    },
    {
      "cell_type": "code",
      "metadata": {
        "id": "01GaWAGnl1mm"
      },
      "source": [
        "#operador modulo\n",
        "numero = 21\n",
        "print( numero / 2 )\n",
        "print( numero // 2 ) \n",
        "'''El operador modulo da como resultado el residuo\n",
        " de una division entera'''\n",
        " print( numero % 2 )\n",
        "\n",
        "numero = 24\n",
        " print('Residuo de 24/5:',numero % 5 )\n",
        "\n",
        "#operadores relacionales (logicos)\n",
        " print( '24 es par?=' numero % 2 ==0 )\n",
        "\n",
        "#diferencia\n",
        "print( '24 es diferente de 23=', numero != 23)\n",
        "print('24 es mayor que 23'. numero > 23)\n",
        "print('24 es menor que 23'. numero < 23)\n",
        "\n",
        "print('24 es mayor o igual que que 24'. numero >= 24)\n",
        "print('24 es menor o igual que que 23'. numero <= 23)"
      ],
      "execution_count": null,
      "outputs": []
    },
    {
      "cell_type": "markdown",
      "metadata": {
        "id": "z-SauAhrplQe"
      },
      "source": [
        "#Tipo de dato String (str) en Python\n",
        "\n",
        "- Se maneja como un arreglo (tipo de dato compuesto)\n",
        "- Se puede acceder a los elementos de el string por medio del índice del caracter. \n",
        "- Mutable\n",
        "- Tiene metodos utiles (potentes)\n",
        "- Slicing\n"
      ]
    },
    {
      "cell_type": "code",
      "metadata": {
        "id": "GxGpVtM2ohh7"
      },
      "source": [
        "nombre = 'jose'\n",
        "carrera = 'Ingeniería en computación'\n",
        "frase = '''El conocimiento \n",
        "me persigue......\n",
        "pero \n",
        "yo soy mas rápido\n",
        "'''\n",
        "\n",
        "print( nombre )\n",
        "print( carrera )\n",
        "print( frase )\n",
        "\n",
        "# La función type de Python te devuelve el tipo de dato de una variable\n",
        " print(type(nombre))\n",
        "\n",
        " paterno = str( 'Perez' )\n",
        " print( paterno )\n"
      ],
      "execution_count": null,
      "outputs": []
    },
    {
      "cell_type": "markdown",
      "metadata": {
        "id": "vQHT_igNpPzf"
      },
      "source": [
        "### Una clase (class) es un tipo de dato compuesto"
      ]
    },
    {
      "cell_type": "markdown",
      "metadata": {
        "id": "qtPrERyMvFGw"
      },
      "source": [
        "### A la sintaxis escrita para elegir un elemento de datos se le llama selector\n",
        "En el caso de Strings y listas(lst) se usan caracteres '['y']'\n",
        "\n",
        "1. En todos los lenguajes los arreglos inician en 0.\n",
        "2. En python no existe tal el tipo de dato arreglo, el concepto es sustituido por las listas.\n",
        "3. Los strings se comportan como un arreglo en la mayoria de los lenguajes.\n",
        "4. En python se acepta en indexado negativo, en otros lenguajes NO."
      ]
    },
    {
      "cell_type": "code",
      "metadata": {
        "id": "XnyAE29Yqr4a",
        "colab": {
          "base_uri": "https://localhost:8080/"
        },
        "outputId": "2827f47d-6370-4068-e2c0-c0884870c5fe"
      },
      "source": [
        "carrera = 'Ingenieria en computacion'\n",
        "print( carrera )\n",
        "print( carrera [2] )\n",
        "print(carrera [-1])\n",
        "print( carrera [-25])\n",
        "\n",
        "#Adelantando el ciclo FOR\n",
        "\n",
        "for letra in carrera:\n",
        "  print('-->',letra,'<--')\n",
        "  \n"
      ],
      "execution_count": null,
      "outputs": [
        {
          "output_type": "stream",
          "name": "stdout",
          "text": [
            "Ingenieria en computacion\n",
            "g\n",
            "n\n",
            "I\n",
            "--> I <--\n",
            "--> n <--\n",
            "--> g <--\n",
            "--> e <--\n",
            "--> n <--\n",
            "--> i <--\n",
            "--> e <--\n",
            "--> r <--\n",
            "--> i <--\n",
            "--> a <--\n",
            "-->   <--\n",
            "--> e <--\n",
            "--> n <--\n",
            "-->   <--\n",
            "--> c <--\n",
            "--> o <--\n",
            "--> m <--\n",
            "--> p <--\n",
            "--> u <--\n",
            "--> t <--\n",
            "--> a <--\n",
            "--> c <--\n",
            "--> i <--\n",
            "--> o <--\n",
            "--> n <--\n"
          ]
        }
      ]
    },
    {
      "cell_type": "markdown",
      "metadata": {
        "id": "gIN7OdvWvAnQ"
      },
      "source": [
        ""
      ]
    },
    {
      "cell_type": "markdown",
      "metadata": {
        "id": "odSjIhRKruIe"
      },
      "source": [
        "### Slicing (rebanado) de cadenas\n",
        "Permite seleccionar subcadenas con el operador\n",
        "\n",
        "###[Inicio : stop : incremento]\n",
        "El stop no se incluye, es por eso que debemos agregar una posicion extra.\n",
        "### Slicing y valores por defecto \n",
        "\n",
        "Inicio por defecto siempre sera 0 stop: tamaño del arreglo )indexado positivo, indexado negativo)\n"
      ]
    },
    {
      "cell_type": "code",
      "metadata": {
        "id": "uVvzmZI2vf6f",
        "colab": {
          "base_uri": "https://localhost:8080/"
        },
        "outputId": "15d910ad-545e-44cb-97b4-e97cfc1fecc1"
      },
      "source": [
        "carrera = 'Ingeniería en computación'\n",
        "print( carrera [0 : 10 : 1])\n",
        "\n",
        "print( carrera [14: 25: 1])\n",
        "#Lo mismo pero con indexado negativo\n",
        "print( carrera [-11 :-1 : 1] )\n",
        "print(carrera [:10:])\n",
        "print( carrera [14:25:])\n",
        "print(carrera[-11: :1])\n",
        "\n",
        "#Solucion previa \n",
        "print('-------')\n",
        "print(carrera [-11 : 25 : 1])\n",
        "print(carrera [-11: :1])\n",
        "\n",
        "#Ejercicio para ver incremento\n",
        "print(carrera [0:10:2])\n",
        "print(carrera[25:-13:-1])"
      ],
      "execution_count": null,
      "outputs": [
        {
          "output_type": "stream",
          "name": "stdout",
          "text": [
            "Ingeniería\n",
            "computación\n",
            "computació\n",
            "Ingeniería\n",
            "computación\n",
            "computación\n",
            "-------\n",
            "computación\n",
            "computación\n",
            "Igneí\n",
            "nóicatupmoc \n"
          ]
        }
      ]
    },
    {
      "cell_type": "markdown",
      "metadata": {
        "id": "g-nZi0Qa0kSM"
      },
      "source": [
        "# String y sus métodos \n",
        "\n",
        "### Todos los tipos de datos en python son objetos( Clases de la POO)\n",
        "\n",
        "## dir() y help() funciones para obtener ayuda del lenguaje Python \n",
        "\n",
        "### dir muestra las funciones de un tipo de dato como resumen.\n",
        "\n",
        "### help muestra la misma ayuda pero a detalle\n",
        "\n",
        "Metodos que inician en doble guion bajo son privados de uso interno de la clase y no deberiamos usarlos.\n",
        "\n",
        "Todos los demas son para uso exterior (para los usuarios)\n"
      ]
    },
    {
      "cell_type": "code",
      "metadata": {
        "id": "R71W354_z09I",
        "colab": {
          "base_uri": "https://localhost:8080/"
        },
        "outputId": "1fa8ffb1-5d0a-4bcc-b983-5f2aa35ed502"
      },
      "source": [
        "frutas = ' limon , fresas, manzana , aguacate '\n",
        "nombre = 'jose'\n",
        "print(frutas)\n",
        "\n",
        "print( nombre.capitalize()) #Hace mayuscula la primera\n",
        "print( nombre.upper())  #Hace mayuscula todas\n",
        "print( frutas.replace('a','4') ) #Sustituye los elementos que quieras\n",
        "frutas =  frutas.replace( 'a' , '4' ).replace( 'e','3' ).upper() \n",
        "print(frutas)\n",
        "print('-.-.-.-.-.-.-.-.-.-.-.-.-.-.-.-.-.')\n",
        "frutas='limon, fresa , manzana, aguacate '\n",
        "print(frutas.strip()) \n",
        "print(frutas.split(','))   #Añade '''\n",
        "\n",
        "print(frutas.index('n'))"
      ],
      "execution_count": null,
      "outputs": [
        {
          "output_type": "stream",
          "name": "stdout",
          "text": [
            " limon , fresas, manzana , aguacate \n",
            "Jose\n",
            "JOSE\n",
            " limon , fres4s, m4nz4n4 , 4gu4c4te \n",
            " LIMON , FR3S4S, M4NZ4N4 , 4GU4C4T3 \n",
            "-.-.-.-.-.-.-.-.-.-.-.-.-.-.-.-.-.\n",
            "limon, fresa , manzana, aguacate\n",
            "['limon', ' fresa ', ' manzana', ' aguacate ']\n",
            "4\n"
          ]
        }
      ]
    },
    {
      "cell_type": "markdown",
      "metadata": {
        "id": "gwzbCd228btO"
      },
      "source": [
        "# String y caracteres de escape\n",
        "\n",
        "\"Jose\"\n",
        "\n",
        "- \\\" ---> \"\n",
        "- \\' ---> '\n",
        "- \\n ---> Salto de linea (tecla enter)\n",
        "- \\t ---> Tabulador espacios a la izq.\n",
        "- \\uxxxx ---> Caracteres unicode. 16 bits (2 bytes)\n",
        "- \\Uxxxxxxxx---> Unicode extendido\n",
        "- \\\\-->\\\n",
        "\n",
        "https://unicode-table.com/es/\n"
      ]
    },
    {
      "cell_type": "code",
      "metadata": {
        "id": "sIrUNet32Mpv",
        "colab": {
          "base_uri": "https://localhost:8080/"
        },
        "outputId": "936850bb-b5ff-473e-b663-dc1988ba60a8"
      },
      "source": [
        "print(\" \\\"Jose\\\" \")\n",
        "nombre = \" \\\"Jose\\\" \"\n",
        "print(nombre)\n",
        "carrera = \"Ingenieria \\nen \\nCcomputacion\"  # Hace enters \n",
        "carrer = \"Ingenieria \\ten \\tComputacion\" #Hace saltos de espacios \n",
        "\n",
        "print( carrera )\n",
        "print( carrer)\n",
        "print('\\u0065')\n",
        "print('\\u0444')\n",
        "print('\\u0620')\n",
        "\n",
        "print('\\U00010057')\n",
        "print('\\U0001F608')\n",
        "print('\\U0001F9A0')\n"
      ],
      "execution_count": null,
      "outputs": [
        {
          "output_type": "stream",
          "name": "stdout",
          "text": [
            " \"Jose\" \n",
            " \"Jose\" \n",
            "Ingenieria \n",
            "en \n",
            "Ccomputacion\n",
            "Ingenieria \ten \tComputacion\n",
            "e\n",
            "ф\n",
            "ؠ\n",
            "𐁗\n",
            "😈\n",
            "🦠\n"
          ]
        }
      ]
    },
    {
      "cell_type": "markdown",
      "metadata": {
        "id": "g4AWBICDyPhE"
      },
      "source": [
        "#Funcion print\n",
        "\n",
        "###Se emple para desplegar informacion en la salida estandar. Normalmente a un monitor\n",
        "\n",
        "###La salida estandar es donde se muestra la info al usuario\n",
        "\n",
        "- Formas de usar print\n",
        "\n",
        "- El argumentp por defecto de print (end)\n",
        "- format()\n",
        "- operador f\"\""
      ]
    },
    {
      "cell_type": "code",
      "metadata": {
        "id": "x2CE_T6b9I2O",
        "colab": {
          "base_uri": "https://localhost:8080/"
        },
        "outputId": "e67426f6-3218-4811-85a2-eff809e65cc4"
      },
      "source": [
        "nombre = 'Jose'\n",
        "edad = 18\n",
        "casado = False\n",
        "estatura = 1.67\n",
        "\n",
        "#1.- Con comas.-Concatena haciendo un casting(conversion a string automatico)\n",
        "#Agrega un espacio\n",
        "print(nombre,edad,casado,estatura)\n",
        "print( nombre , edad , casado , estatura ) ###No importa los espacios que se \n",
        "###pongan en el print los espacios se dan por las comas\n",
        "print('Nombre: ' + nombre + '\\n\\tEdad:' + str(edad) +  '\\n\\tEsta casado:' + str(casado) +'\\n\\tEstatura en metros' + str(estatura))\n",
        "\n",
        "\"\"\"2.- Con el simbolo + .-\n",
        "Concatenacion en crudo.\"\"\" \n",
        "print( nombre +\"  \"+ str(edad) +\"  \"+ str(casado) +\"  \"+ str(estatura))\n",
        "print( nombre +\"\"+ str(edad) +\"\"+ str(casado) +\"\"+ str(estatura))\n",
        "\n",
        "#Los espacios que se pongan entre (\"   \") ahora si separa los que pongas\n",
        "\n",
        "# 3.- Formato de salida con format()\n",
        "print('Nombre: {}\\n\\tEdad: {}\\n\\tEsta cadado: {}\\n\\tEstatura en metros:{}'.format(nombre, edad, casado, estatura))\n",
        "\n",
        "#4.- Con el operador f\" \"\n",
        "print('Con el operador f\\\" \\\"')\n",
        "print(f'Nombre: {nombre}\\n\\tEdad: {edad}\\n\\tEsta cadado: {casado}\\n\\tEstatura en metros:{estatura}')\n",
        "#Con f' ' puedes escribir en los corchetes los objetos que quieras que se impriman\n",
        "\n",
        "\n",
        "#Como manejar el argumento end\n",
        "print(f'Hola {nombre}' , end='')\n",
        "print(', como estas?' , end='')"
      ],
      "execution_count": null,
      "outputs": [
        {
          "output_type": "stream",
          "name": "stdout",
          "text": [
            "Jose 18 False 1.67\n",
            "Jose 18 False 1.67\n",
            "Nombre: Jose\n",
            "\tEdad:18\n",
            "\tEsta casado:False\n",
            "\tEstatura en metros1.67\n",
            "Jose  18  False  1.67\n",
            "Jose18False1.67\n",
            "Nombre: Jose\n",
            "\tEdad: 18\n",
            "\tEsta cadado: False\n",
            "\tEstatura en metros:1.67\n",
            "Con el operador f\" \"\n",
            "Nombre: Jose\n",
            "\tEdad: 18\n",
            "\tEsta cadado: False\n",
            "\tEstatura en metros:1.67\n",
            "Hola Jose, como estas?"
          ]
        }
      ]
    },
    {
      "cell_type": "markdown",
      "metadata": {
        "id": "SWVypHeh63wu"
      },
      "source": [
        "###Tarea\n",
        "- Con una sola funcion Por letra print, escribir su primer nombre (nombre de pila) de la siguiente forma. uNA FUNCION POR LETRA\n",
        "\n",
        "E  E  E    \n",
        "E         \n",
        "E  E       \n",
        "E               \n",
        "E  E  E   \n",
        "\n",
        "S  S  S  \n",
        "S\n",
        "S S S S \n",
        "      S\n",
        "S S S S\n",
        "\n",
        "T T T T T\n",
        "    T\n",
        "    T\n",
        "    T \n",
        "    T\n",
        "\n",
        "E  E  E    \n",
        "E         \n",
        "E  E        \n",
        "E               \n",
        "E  E  E  \n",
        "\n",
        "B B B B\n",
        "B     B\n",
        "B B B \n",
        "B     B\n",
        "B B B B\n",
        "\n",
        "   A"
      ]
    },
    {
      "cell_type": "code",
      "metadata": {
        "id": "DhYCXcQo46wo",
        "colab": {
          "base_uri": "https://localhost:8080/"
        },
        "outputId": "53b9f934-1843-4320-94a7-28354490046a"
      },
      "source": [
        "print('EEEEEE \\tSSSSSS \\tTTTTTT \\tEEEEEE \\tBBBBBB \\t  A')"
      ],
      "execution_count": null,
      "outputs": [
        {
          "output_type": "stream",
          "name": "stdout",
          "text": [
            "EEEEEE \tSSSSSS \tTTTTTT \tEEEEEE \tBBBBBB \t  A\n"
          ]
        }
      ]
    },
    {
      "cell_type": "code",
      "metadata": {
        "id": "wXf4knkYAd_8"
      },
      "source": [
        ""
      ],
      "execution_count": null,
      "outputs": []
    }
  ]
}