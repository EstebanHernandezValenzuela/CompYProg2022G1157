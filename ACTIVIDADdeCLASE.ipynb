{
  "nbformat": 4,
  "nbformat_minor": 0,
  "metadata": {
    "colab": {
      "name": "ACTIVIDADdeCLASE.ipynb",
      "provenance": [],
      "authorship_tag": "ABX9TyMj3p8dT1wpv0qa4Ad1wpRV",
      "include_colab_link": true
    },
    "kernelspec": {
      "name": "python3",
      "display_name": "Python 3"
    },
    "language_info": {
      "name": "python"
    }
  },
  "cells": [
    {
      "cell_type": "markdown",
      "metadata": {
        "id": "view-in-github",
        "colab_type": "text"
      },
      "source": [
        "<a href=\"https://colab.research.google.com/github/EstebanHernandezValenzuela/CompYProg2022G1157/blob/main/ACTIVIDADdeCLASE.ipynb\" target=\"_parent\"><img src=\"https://colab.research.google.com/assets/colab-badge.svg\" alt=\"Open In Colab\"/></a>"
      ]
    },
    {
      "cell_type": "code",
      "metadata": {
        "id": "FHD98dRFNRqT"
      },
      "source": [
        "#EJERCICIO para entregar\n",
        "\n",
        "A = float(input(\"Dame un valor A: \"))\n",
        "B = float(input(\"Dame un valor B: \"))\n",
        "C = float(input(\"Dame un valor C: \"))\n",
        "#A la izquierda\n",
        "if A > B and A > C and B > C:\n",
        "    print(f\"{A}, {B}, {C}\")\n",
        "elif A > B and A < C:\n",
        "    print(f\"{C}, {A}, {B}\")\n",
        "elif A > B and A > C and B < C:\n",
        "    print(f\"{A}, {C}, {B}\")\n",
        "#A la derecha\n",
        "elif A < B and B < C:\n",
        "    print(f\"{C}, {B}, {A}\")\n",
        "elif A < B and B > C and A > C: \n",
        "    print(f\"{B}, {A}, {C}\")\n",
        "elif A < B and B > C and A < C:\n",
        "    print(f\"{B}, {C}, {A}\")\n",
        "\n",
        "print(\"FIN\")"
      ],
      "execution_count": null,
      "outputs": []
    },
    {
      "cell_type": "code",
      "metadata": {
        "id": "kYqc_gVSNS71"
      },
      "source": [
        ""
      ],
      "execution_count": null,
      "outputs": []
    }
  ]
}