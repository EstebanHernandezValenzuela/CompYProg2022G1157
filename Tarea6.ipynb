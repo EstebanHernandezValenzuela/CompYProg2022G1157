{
  "nbformat": 4,
  "nbformat_minor": 0,
  "metadata": {
    "colab": {
      "name": "Tarea6.ipynb",
      "provenance": [],
      "authorship_tag": "ABX9TyO3YijNzLK9sDjb4zpXlQLI",
      "include_colab_link": true
    },
    "kernelspec": {
      "name": "python3",
      "display_name": "Python 3"
    },
    "language_info": {
      "name": "python"
    }
  },
  "cells": [
    {
      "cell_type": "markdown",
      "metadata": {
        "id": "view-in-github",
        "colab_type": "text"
      },
      "source": [
        "<a href=\"https://colab.research.google.com/github/EstebanHernandezValenzuela/CompYProg2022G1157/blob/main/Tarea6.ipynb\" target=\"_parent\"><img src=\"https://colab.research.google.com/assets/colab-badge.svg\" alt=\"Open In Colab\"/></a>"
      ]
    },
    {
      "cell_type": "markdown",
      "metadata": {
        "id": "7mb-iHgfZfmE"
      },
      "source": [
        "#2.1"
      ]
    },
    {
      "cell_type": "code",
      "metadata": {
        "colab": {
          "base_uri": "https://localhost:8080/"
        },
        "id": "z02zsO5WZcAB",
        "outputId": "f8e707b3-4689-45c1-cafb-474721e94b47"
      },
      "source": [
        "N = int(input(\"Introduzca el numeros de sonidos emitidos por minuto: \"))\n",
        "if N > 0:\n",
        "    T =  N/4+40\n",
        "    print(f\"La temperatura es {T} grados Fahrenheit\")\n",
        "print(\"Fin del programa\")"
      ],
      "execution_count": 13,
      "outputs": [
        {
          "output_type": "stream",
          "name": "stdout",
          "text": [
            "Introduzca el numeros de sonidos emitidos por minuto: 3\n",
            "La temperatura es 40.75 grados Fahrenheit\n",
            "Fin del programa\n"
          ]
        }
      ]
    },
    {
      "cell_type": "markdown",
      "metadata": {
        "id": "OsV6z5_YZf9s"
      },
      "source": [
        "#2.2\n"
      ]
    },
    {
      "cell_type": "code",
      "metadata": {
        "id": "TI_HlqaiZgON",
        "colab": {
          "base_uri": "https://localhost:8080/"
        },
        "outputId": "bc62440a-4a34-440e-e72f-9d1624802f6a"
      },
      "source": [
        "P = int(input(\"Dame un valor \"))\n",
        "Q = int(input(\"Dame otro valor \"))\n",
        "PQ =  P**3 + Q**4 - 2*P**2\n",
        "if PQ <680:\n",
        "    print(PQ)\n",
        "    print(P , Q)\n",
        "print(\"Fin del programa\")"
      ],
      "execution_count": null,
      "outputs": [
        {
          "output_type": "stream",
          "name": "stdout",
          "text": [
            "Dame un valor 3\n",
            "Dame otro valor 5\n",
            "634\n",
            "3 5\n",
            "Fin del programa\n"
          ]
        }
      ]
    },
    {
      "cell_type": "markdown",
      "metadata": {
        "id": "z44uI8ruZgdR"
      },
      "source": [
        "#2.3"
      ]
    },
    {
      "cell_type": "code",
      "metadata": {
        "id": "nKmtYh5eZgxO",
        "colab": {
          "base_uri": "https://localhost:8080/"
        },
        "outputId": "eb85db11-3c35-448c-e324-6e439dcb7a41"
      },
      "source": [
        "A = float(input(\"Dame un valor A: \"))\n",
        "B = float(input(\"Dame un valor B: \"))\n",
        "C = float(input(\"Dame un valor C: \"))\n",
        "DIS =  B**2-4*A*C\n",
        "print(f\"El discriminante es: {DIS}\")\n",
        "if DIS >= 0:\n",
        "    X1 = ((-B)+DIS**0.5)/(2*A)\n",
        "    X2 = ((-B)-DIS**0.5)/(2*A)\n",
        "    print(f\"Racices reales: {X1}, {X2}\")\n",
        "\n",
        "print(\"Fin del programa\")"
      ],
      "execution_count": 27,
      "outputs": [
        {
          "output_type": "stream",
          "name": "stdout",
          "text": [
            "Dame un valor A: 3\n",
            "Dame un valor B: 9\n",
            "Dame un valor C: 1.5\n",
            "El discriminante es: 63.0\n",
            "Racices reales -0.17712434446770464, -2.8228756555322954\n",
            "Fin del programa\n"
          ]
        }
      ]
    },
    {
      "cell_type": "markdown",
      "metadata": {
        "id": "gp5ZJZjFlyOC"
      },
      "source": [
        "#2.4"
      ]
    },
    {
      "cell_type": "code",
      "metadata": {
        "colab": {
          "base_uri": "https://localhost:8080/"
        },
        "id": "KCgoW2sNlyhz",
        "outputId": "81722e60-6349-4b53-ea4a-ef6d4bc500ca"
      },
      "source": [
        "MAT = int(input(\"Dame tu numero de matricula: \"))\n",
        "CAL1 = float(input(\"Dame tu primera calificacion: \"))\n",
        "CAL2 = float(input(\"Dame tu segunda calificacion: \"))\n",
        "CAL3 = float(input(\"Dame tu tercera calificacion: \"))\n",
        "CAL4 = float(input(\"Dame tu cuarta calificacion: \"))\n",
        "CAL5 = float(input(\"Dame tu quinta calificacion: \"))\n",
        "PRO = (CAL1+CAL2+CAL3+CAL4+CAL5)/(5)\n",
        "print(PRO)\n",
        "\n",
        "if PRO >=6:\n",
        "    print(f\"Alumno {MAT}, con {PRO} es: Aprobado\")\n",
        "else:\n",
        "    print(f\"Alumno {MAT}, con {PRO} es: NO Aprobado\")"
      ],
      "execution_count": 34,
      "outputs": [
        {
          "output_type": "stream",
          "name": "stdout",
          "text": [
            "Dame tu numero de matricula: 5\n",
            "Dame tu primera calificacion: 5\n",
            "Dame tu segunda calificacion: 5\n",
            "Dame tu tercera calificacion: 5\n",
            "Dame tu cuarta calificacion: 5\n",
            "Dame tu quinta calificacion: 5\n",
            "5.0\n",
            "Alumno 5, con 5.0 es: NO Aprobado\n"
          ]
        }
      ]
    },
    {
      "cell_type": "markdown",
      "metadata": {
        "id": "ze9_pkdvlyuo"
      },
      "source": [
        "#2.5"
      ]
    },
    {
      "cell_type": "code",
      "metadata": {
        "colab": {
          "base_uri": "https://localhost:8080/"
        },
        "id": "aVOixgeUlzB0",
        "outputId": "1087004d-3594-403f-c747-0d6f46c10cf7"
      },
      "source": [
        "NUM = int(input(\"Dame un numero entero: \"))\n",
        "if NUM > 0:\n",
        "    print(\"POSITIVO\")\n",
        "elif NUM == 0:\n",
        "    print(\"NULO\")\n",
        "else:\n",
        "    print(\"NEGATIVO\")\n",
        "\n",
        "print(\"FIN DEL PROGRAMA\")"
      ],
      "execution_count": 42,
      "outputs": [
        {
          "output_type": "stream",
          "name": "stdout",
          "text": [
            "Dame un numero entero: -2\n",
            "NEGATIVO\n",
            "FIN DEL PROGRAMA\n"
          ]
        }
      ]
    },
    {
      "cell_type": "markdown",
      "metadata": {
        "id": "Cx1nxcillzSg"
      },
      "source": [
        "#2.6"
      ]
    },
    {
      "cell_type": "code",
      "metadata": {
        "colab": {
          "base_uri": "https://localhost:8080/"
        },
        "id": "Cnl4a1yYlzni",
        "outputId": "451db4c4-3e30-484a-cfe7-25f3d8abd99f"
      },
      "source": [
        "A = int(input(\"Dame un numero entero: \"))\n",
        "if A == 0:\n",
        "    print(\"NULO\")\n",
        "elif (-1)**A>0:\n",
        "    print(\"PAR\")\n",
        "else:\n",
        "    print(\"IMPAR\")\n",
        "\n",
        "print(\"FIN DEL PROGRAMA\")"
      ],
      "execution_count": 86,
      "outputs": [
        {
          "output_type": "stream",
          "name": "stdout",
          "text": [
            "Dame un numero entero: 0\n",
            "NULO\n",
            "FIN DEL PROGRAMA\n"
          ]
        }
      ]
    },
    {
      "cell_type": "markdown",
      "metadata": {
        "id": "W83woy0ulz7m"
      },
      "source": [
        "#2.7"
      ]
    },
    {
      "cell_type": "code",
      "metadata": {
        "colab": {
          "base_uri": "https://localhost:8080/"
        },
        "id": "QiYjbQBzl0La",
        "outputId": "bfef976d-7b23-45ee-8e68-ed1699410595"
      },
      "source": [
        "A = int(input(\"Dame un valor entero: \"))\n",
        "B = int(input(\"Dame un valor entero diferente: \"))\n",
        "C = int(input(\"Dame un valor entero diferente: \"))\n",
        "\n",
        "if A < B:\n",
        "    if B < C:\n",
        "        print(\"Los numeros estan en orden creciente\")\n",
        "    else:\n",
        "        print(\"Los numeros no estan en orden creciente\")\n",
        "else:\n",
        "    print(\"Los numeros no estan en orden creciente\")\n",
        "\n",
        "print(\"FIN DEL PROGRAMA\")"
      ],
      "execution_count": 89,
      "outputs": [
        {
          "output_type": "stream",
          "name": "stdout",
          "text": [
            "Dame un valor entero: 1\n",
            "Dame un valor entero diferente: 0\n",
            "Dame un valor entero diferente: 2\n",
            "Los numeros no estan en orden creciente\n",
            "FIN DEL PROGRAMA\n"
          ]
        }
      ]
    },
    {
      "cell_type": "markdown",
      "metadata": {
        "id": "iV3RnOu6l0YN"
      },
      "source": [
        "#2.8"
      ]
    },
    {
      "cell_type": "code",
      "metadata": {
        "colab": {
          "base_uri": "https://localhost:8080/"
        },
        "id": "kBvY8_mHl0nC",
        "outputId": "6b846760-dc92-490c-e79e-27a22f488a2d"
      },
      "source": [
        "COMPRA = float(input(\"Dame el monto de la compra: \"))\n",
        "\n",
        "if COMPRA < 500:\n",
        "    print(f\"Pagar {COMPRA}\")\n",
        "elif COMPRA <= 1000:\n",
        "    COMPRA = COMPRA - (COMPRA*0.05)\n",
        "    print(f\"Pagar {COMPRA}\")\n",
        "elif COMPRA <= 7000:\n",
        "    COMPRA = COMPRA - (COMPRA*0.11)\n",
        "    print(f\"Pagar {COMPRA}\")\n",
        "elif COMPRA <= 15000:\n",
        "    COMPRA = COMPRA - (COMPRA*0.18)\n",
        "    print(f\"Pagar {COMPRA}\")\n",
        "elif COMPRA > 15000:\n",
        "    COMPRA = COMPRA - (COMPRA*0.25)\n",
        "    print(f\"Pagar {COMPRA}\")\n"
      ],
      "execution_count": 106,
      "outputs": [
        {
          "output_type": "stream",
          "name": "stdout",
          "text": [
            "Dame el monto de la compra: 12346\n",
            "Pagar 10123.720000000001\n"
          ]
        }
      ]
    },
    {
      "cell_type": "markdown",
      "metadata": {
        "id": "nfku3-tol1A1"
      },
      "source": [
        "#2.9"
      ]
    },
    {
      "cell_type": "code",
      "metadata": {
        "colab": {
          "base_uri": "https://localhost:8080/"
        },
        "id": "tYZDW14Xl1P5",
        "outputId": "d360909a-e19c-42c2-a129-7f305f485395"
      },
      "source": [
        "PREBAS = float(input(f\"Dame el precio sin impuesto: \"))\n",
        "IMP = 0\n",
        "PRETOT = 0\n",
        "if PREBAS > 500:\n",
        "    IMP = 20*0.30+(PREBAS-40)*0.50\n",
        "    PRETOT = (PREBAS+IMP)\n",
        "elif PREBAS > 40:\n",
        "    IMP = 20*0.30+(PREBAS-40)*0.40\n",
        "    PRETOT = (PREBAS+IMP)\n",
        "elif PREBAS > 20:\n",
        "    IMP = (PREBAS-20)*0.30\n",
        "    PRETOT = (PREBAS+IMP)\n",
        "elif PREBAS <=20:\n",
        "    IMP = 0\n",
        "    PRETOT = PREBAS+IMP\n",
        "print(f\"IMPUESTO: {IMP}, PRECIO FINAL: {PRETOT}\")"
      ],
      "execution_count": 123,
      "outputs": [
        {
          "output_type": "stream",
          "name": "stdout",
          "text": [
            "Dame el precio sin impuesto: 17.33\n",
            "IMPUESTO: 0, PRECIO FINAL: 17.33\n"
          ]
        }
      ]
    },
    {
      "cell_type": "markdown",
      "metadata": {
        "id": "kND9E9rQl1a9"
      },
      "source": [
        "#2.10"
      ]
    },
    {
      "cell_type": "code",
      "metadata": {
        "colab": {
          "base_uri": "https://localhost:8080/"
        },
        "id": "Fc1G_Bvml1so",
        "outputId": "60ce0728-35ca-47af-eccd-5b01c6dca838"
      },
      "source": [
        "A = int(input(\"Dame un valor entero: \"))\n",
        "B = int(input(\"Dame un valor entero: \"))\n",
        "C = int(input(\"Dame un valor entero: \"))\n",
        "\n",
        "if A > B:\n",
        "    if A > C:\n",
        "        print(f\"{A} es el mayor\")\n",
        "    if A == C:\n",
        "        print(f\"{A} y {C} son los mayores\")\n",
        "    if A < C:\n",
        "        print(f\"{C} es el mayor\")\n",
        "elif A == B:\n",
        "    if A > C:\n",
        "        print(f\"{A} y {B} son los mayores\")\n",
        "    if A == C:\n",
        "        print(f\"{A}, {B}, {C} son los mayores\")\n",
        "    if A < C:\n",
        "         print(f\"{C} es el mayor\")\n",
        "elif B > C:\n",
        "    print(f\"{B} es el mayor\")\n",
        "elif B == C:\n",
        "    print(f\"{B} y {C} son los mayores\")\n",
        "elif B < C:\n",
        "    print(f\"{C} es el mayor\")\n",
        "\n",
        "print(\"FIN DEL PROGRAMA\")"
      ],
      "execution_count": 139,
      "outputs": [
        {
          "output_type": "stream",
          "name": "stdout",
          "text": [
            "Dame un valor entero: 1\n",
            "Dame un valor entero: 1\n",
            "Dame un valor entero: 1\n",
            "1, 1, 1 son los mayores\n",
            "FIN DEL PROGRAMA\n"
          ]
        }
      ]
    },
    {
      "cell_type": "markdown",
      "metadata": {
        "id": "D3g8K3OgmDA3"
      },
      "source": [
        "#2.11"
      ]
    },
    {
      "cell_type": "code",
      "metadata": {
        "colab": {
          "base_uri": "https://localhost:8080/"
        },
        "id": "LhSvN0tjmDOf",
        "outputId": "d9d4368e-b641-47af-bee6-5dddff60db87"
      },
      "source": [
        "CLAVE = int(input(\"Dame la clave de la zona a la que se llamo: \"))\n",
        "NUMIN = int(input(\"Dame la duracion en minutos de la llamada: \"))\n",
        "if CLAVE == 12:\n",
        "    COST = NUMIN*2\n",
        "elif CLAVE ==15:\n",
        "    COST = NUMIN*2.2\n",
        "elif CLAVE ==18:\n",
        "    COST = NUMIN*4.5\n",
        "elif CLAVE ==19:\n",
        "    COST = NUMIN*3.5\n",
        "elif CLAVE ==23 or CLAVE ==25:\n",
        "    COST = NUMIN*6\n",
        "elif CLAVE ==29:\n",
        "    COST = NUMIN*5\n",
        "print(f\"Costo total de la llamada: {COST}\")"
      ],
      "execution_count": 149,
      "outputs": [
        {
          "output_type": "stream",
          "name": "stdout",
          "text": [
            "Dame la clave de la zona a la que se llamo: 18\n",
            "Dame la duracion en minutos de la llamada: 12\n",
            "Costo total de la llamada: 54.0\n"
          ]
        }
      ]
    },
    {
      "cell_type": "markdown",
      "metadata": {
        "id": "sX2MDnAbmDWz"
      },
      "source": [
        "#2.12"
      ]
    },
    {
      "cell_type": "code",
      "metadata": {
        "colab": {
          "base_uri": "https://localhost:8080/"
        },
        "id": "I66iGFVsmDsZ",
        "outputId": "102d254a-1498-4a17-93bb-8c86a39161ae"
      },
      "source": [
        "SUE = float(input(\"Dame tu sueldo: \"))\n",
        "CATE = int(input(\"Dame tu categoria del 1 al 8: \"))\n",
        "HE = int(input(\"Dame tus horas extras trabajdas: \"))\n",
        "if CATE ==1:\n",
        "    PHE = 30\n",
        "if CATE ==2:\n",
        "    PHE = 38\n",
        "if CATE ==3:\n",
        "    PHE = 50\n",
        "if CATE ==4:\n",
        "    PHE = 70\n",
        "elif CATE>=5:\n",
        "    PHE = 0\n",
        "\n",
        "if HE > 30:\n",
        "    NSUE = SUE + 30*PHE\n",
        "else:\n",
        "        NSUE = SUE + HE*PHE\n",
        "print(f\"Tu pago es de {NSUE}\")"
      ],
      "execution_count": 208,
      "outputs": [
        {
          "output_type": "stream",
          "name": "stdout",
          "text": [
            "Dame tu sueldo: 3350\n",
            "Dame tu categoria del 1 al 8: 3\n",
            "Dame tus horas extras trabajdas: 49\n",
            "Tu pago es de 4850.0\n"
          ]
        }
      ]
    },
    {
      "cell_type": "markdown",
      "metadata": {
        "id": "pJgcrEhhmEBP"
      },
      "source": [
        "#2.13"
      ]
    },
    {
      "cell_type": "code",
      "metadata": {
        "colab": {
          "base_uri": "https://localhost:8080/"
        },
        "id": "_P4GJE9HmLMd",
        "outputId": "b7c793ba-e7a0-4d6f-c9fe-50c02fdf30c1"
      },
      "source": [
        "MAT = int(input(\"Dame tu matricula de alumno: \"))\n",
        "CARR = str(input(\"Escriba la carrera: \"))\n",
        "SEM = float(input(\"Dame el semestre:\"))\n",
        "PROM = float(input(\"Dame tu promedio: \"))\n",
        "\n",
        "if CARR ==\"Economía\":\n",
        "    if SEM >=6 and PROM >=8.8:\n",
        "        print(f\"{MAT}, {CARR} ACEPTADO\")\n",
        "    else:\n",
        "        print(\"Fin del programa\")       \n",
        "if CARR ==\"Computación\":\n",
        "    if SEM > 6 and PROM > 8.5:\n",
        "        print(f\"{MAT}, {CARR} ACEPTADO\")\n",
        "    else:\n",
        "        print(\"Fin del programa\")  \n",
        "if CARR ==\"Administración\" or \"Contabilidad\":\n",
        "    if SEM > 5 and PROM > 8.5:\n",
        "        print(f\"{MAT}, {CARR} ACEPTADO\")\n",
        "    else:\n",
        "        print(\"Fin del programa\") "
      ],
      "execution_count": 196,
      "outputs": [
        {
          "output_type": "stream",
          "name": "stdout",
          "text": [
            "Dame tu matricula de alumno: 5\n",
            "Escriba la carrera: Computación\n",
            "Dame el semestre:6\n",
            "Dame tu promedio: 9\n",
            "Fin del programa\n",
            "5, Computación ACEPTADO\n"
          ]
        }
      ]
    },
    {
      "cell_type": "code",
      "metadata": {
        "id": "F9SHNBdqPtEh"
      },
      "source": [
        ""
      ],
      "execution_count": null,
      "outputs": []
    }
  ]
}